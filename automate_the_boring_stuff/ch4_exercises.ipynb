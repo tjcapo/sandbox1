{
 "cells": [
  {
   "cell_type": "markdown",
   "id": "79d8a69e-a6ca-4b66-a04b-e05ecbc5ae8c",
   "metadata": {},
   "source": [
    "## Chapter 4"
   ]
  },
  {
   "cell_type": "markdown",
   "id": "c4f81cf1-f52c-489d-a727-f27909a31a34",
   "metadata": {},
   "source": [
    "---\n",
    "\n",
    "### 1. What is `[]`?"
   ]
  },
  {
   "cell_type": "markdown",
   "id": "0a4732b7-3c1d-4b62-ab12-f465b78fd7ac",
   "metadata": {},
   "source": [
    "The opening square bracket is the start of the list and the closing square bracket is the end of the list."
   ]
  },
  {
   "cell_type": "markdown",
   "id": "bbf565a6-7f72-473c-86cb-0428ac547c0a",
   "metadata": {},
   "source": [
    "---\n",
    "\n",
    "### 2. How would you assign the value `'hello'` as the third value in a list stored in a variable named spam? (Assume `spam` contains `[2, 4, 6, 8, 10]`.)"
   ]
  },
  {
   "cell_type": "code",
   "execution_count": 1,
   "id": "dc7c684e-032f-488c-b891-bbd552c55de9",
   "metadata": {},
   "outputs": [
    {
     "name": "stdout",
     "output_type": "stream",
     "text": [
      "[2, 4, 'hello', 8, 10]\n"
     ]
    }
   ],
   "source": [
    "spam = [2, 4, 6, 8, 10]\n",
    "\n",
    "spam[2] = 'hello'\n",
    "\n",
    "print(spam)"
   ]
  },
  {
   "cell_type": "markdown",
   "id": "6c8ee147-2e20-4e4a-befc-f119837932e7",
   "metadata": {},
   "source": [
    "---\n",
    "\n",
    "### For the following three questions, let’s say `spam` contains the list `['a', 'b', 'c', 'd']`\n"
   ]
  },
  {
   "cell_type": "markdown",
   "id": "e5083387-e808-4d80-b082-6252294a8bbb",
   "metadata": {},
   "source": [
    "---\n",
    "\n",
    "### 3. What does `spam[int(int('3' * 2) // 11)]` evaluate to?\n"
   ]
  },
  {
   "cell_type": "code",
   "execution_count": 2,
   "id": "6b74f27b-56e5-4f12-96b2-e4c23a5603f0",
   "metadata": {},
   "outputs": [
    {
     "data": {
      "text/plain": [
       "'d'"
      ]
     },
     "execution_count": 2,
     "metadata": {},
     "output_type": "execute_result"
    }
   ],
   "source": [
    "spam = ['a', 'b', 'c', 'd']\n",
    "\n",
    "spam[int(int('3' * 2) // 11)]"
   ]
  },
  {
   "cell_type": "markdown",
   "id": "126c000c-24c8-4270-bda0-73ae89e2191c",
   "metadata": {},
   "source": [
    "---\n",
    "\n",
    "### 4. What does `spam[-1]` evaluate to?"
   ]
  },
  {
   "cell_type": "code",
   "execution_count": 3,
   "id": "faa45e99-c3a0-494a-8503-1b58d662b1ca",
   "metadata": {},
   "outputs": [
    {
     "data": {
      "text/plain": [
       "'d'"
      ]
     },
     "execution_count": 3,
     "metadata": {},
     "output_type": "execute_result"
    }
   ],
   "source": [
    "spam = ['a', 'b', 'c', 'd']\n",
    "\n",
    "spam[-1]"
   ]
  },
  {
   "cell_type": "markdown",
   "id": "fd48c274-6c0c-4653-bce9-dccd74e20d1e",
   "metadata": {},
   "source": [
    "---\n",
    "\n",
    "### 5. What does `spam[:2]` evaluate to?"
   ]
  },
  {
   "cell_type": "code",
   "execution_count": 4,
   "id": "8a86debd-f69d-4039-a24c-1607b3ebc077",
   "metadata": {},
   "outputs": [
    {
     "data": {
      "text/plain": [
       "['a', 'b']"
      ]
     },
     "execution_count": 4,
     "metadata": {},
     "output_type": "execute_result"
    }
   ],
   "source": [
    "spam = ['a', 'b', 'c', 'd']\n",
    "\n",
    "spam[:2]"
   ]
  },
  {
   "cell_type": "markdown",
   "id": "c3e3c4f0-261f-4cee-9373-43ee9c7c2054",
   "metadata": {},
   "source": [
    "---\n",
    "\n",
    "### For the following three questions, let’s say `bacon` contains the list `[3.14, 'cat', 11, 'cat', True]`."
   ]
  },
  {
   "cell_type": "markdown",
   "id": "8f07690d-b37f-4653-9b7f-72a6268eebbc",
   "metadata": {},
   "source": [
    "---\n",
    "\n",
    "### 6. What does `bacon.index('cat')` evaluate to?"
   ]
  },
  {
   "cell_type": "code",
   "execution_count": 5,
   "id": "5d739a22-54d1-4e2c-b8ae-516231026207",
   "metadata": {},
   "outputs": [
    {
     "data": {
      "text/plain": [
       "1"
      ]
     },
     "execution_count": 5,
     "metadata": {},
     "output_type": "execute_result"
    }
   ],
   "source": [
    "bacon = [3.14, 'cat', '11', 'cat', True]\n",
    "\n",
    "bacon.index('cat')"
   ]
  },
  {
   "cell_type": "markdown",
   "id": "47ae428a-3599-4cd9-966e-abe8fcdacb48",
   "metadata": {},
   "source": [
    "---\n",
    "\n",
    "### 7. What does `bacon.append(99)` make the list value in `bacon` look like?\n"
   ]
  },
  {
   "cell_type": "code",
   "execution_count": 8,
   "id": "36874195-27fd-44b8-9f11-d679a9c20801",
   "metadata": {},
   "outputs": [
    {
     "name": "stdout",
     "output_type": "stream",
     "text": [
      "[3.14, 'cat', '11', 'cat', True, 99]\n"
     ]
    }
   ],
   "source": [
    "bacon = [3.14, 'cat', '11', 'cat', True]\n",
    "\n",
    "bacon.append(99)\n",
    "\n",
    "print(bacon)"
   ]
  },
  {
   "cell_type": "markdown",
   "id": "26f1000f-13d6-413d-aab7-fbf9d3125dd3",
   "metadata": {},
   "source": [
    "---\n",
    "\n",
    "### 8. What does `bacon.remove('cat')` make the list value in `bacon` look like?"
   ]
  },
  {
   "cell_type": "code",
   "execution_count": 10,
   "id": "838f9286-eff0-4dc2-8c9d-fd9101f79903",
   "metadata": {},
   "outputs": [
    {
     "name": "stdout",
     "output_type": "stream",
     "text": [
      "[3.14, '11', 'cat', True]\n"
     ]
    }
   ],
   "source": [
    "bacon = [3.14, 'cat', '11', 'cat', True]\n",
    "\n",
    "bacon.remove('cat')\n",
    "\n",
    "print(bacon)"
   ]
  },
  {
   "cell_type": "markdown",
   "id": "ed3e1779-b1c4-480b-8491-e541fc747e0e",
   "metadata": {},
   "source": [
    "---\n",
    "\n",
    "### 9. What are the operators for list concatenation and list replication?"
   ]
  },
  {
   "cell_type": "code",
   "execution_count": null,
   "id": "e1ce70f2-fad6-4c8c-9ce5-9f1694114e13",
   "metadata": {},
   "outputs": [],
   "source": []
  },
  {
   "cell_type": "markdown",
   "id": "294ad2e9-28b0-4939-ad9e-6847cfae08b3",
   "metadata": {},
   "source": [
    "---\n",
    "\n",
    "### 10. What is the difference between the `append()` and `insert()` list methods?\n"
   ]
  },
  {
   "cell_type": "code",
   "execution_count": null,
   "id": "fac6d1b8-9a1f-4631-bf1c-57d8fc2c6ed3",
   "metadata": {},
   "outputs": [],
   "source": []
  },
  {
   "cell_type": "markdown",
   "id": "0aed1cfe-94d6-48fb-a401-387bd4c90eef",
   "metadata": {},
   "source": [
    "---\n",
    "\n",
    "### 11. What are two ways to remove values from a list?"
   ]
  },
  {
   "cell_type": "code",
   "execution_count": null,
   "id": "0d3c94bc-d594-40e3-afe2-7dd1d07a6c28",
   "metadata": {},
   "outputs": [],
   "source": []
  },
  {
   "cell_type": "markdown",
   "id": "355956d3-6b0b-4581-a61e-db4636ea4e97",
   "metadata": {},
   "source": [
    "---\n",
    "\n",
    "### 12. Name a few ways that list values are similar to string values."
   ]
  },
  {
   "cell_type": "code",
   "execution_count": null,
   "id": "19435f6d-50f4-4629-ae45-e3e74cb4ebdb",
   "metadata": {},
   "outputs": [],
   "source": []
  },
  {
   "cell_type": "markdown",
   "id": "14ac797a-e8ca-4a70-b27b-84d92ba77b57",
   "metadata": {},
   "source": [
    "---\n",
    "\n",
    "### 13. What is the difference between lists and tuples?"
   ]
  },
  {
   "cell_type": "code",
   "execution_count": null,
   "id": "b1bd21de-e6e7-4513-a7a6-fbca358b98ce",
   "metadata": {},
   "outputs": [],
   "source": []
  },
  {
   "cell_type": "markdown",
   "id": "f8074f4f-3474-4157-a343-82bcf4add63d",
   "metadata": {},
   "source": [
    "---\n",
    "\n",
    "### 14. How do you type the tuple value that has just the integer value 42 in it?"
   ]
  },
  {
   "cell_type": "code",
   "execution_count": null,
   "id": "28e1a81b-370e-4306-a583-ea725af46650",
   "metadata": {},
   "outputs": [],
   "source": []
  },
  {
   "cell_type": "markdown",
   "id": "f7cb9ac6-9065-400e-9a5a-8bede1816e77",
   "metadata": {},
   "source": [
    "---\n",
    "\n",
    "### 15. How can you get the tuple form of a list value? How can you get the list form of a tuple value?"
   ]
  },
  {
   "cell_type": "code",
   "execution_count": null,
   "id": "cd4eef1a-bb2e-4a63-aaef-1543c12aa73e",
   "metadata": {},
   "outputs": [],
   "source": []
  },
  {
   "cell_type": "markdown",
   "id": "5e7442db-ae54-4500-bc73-9c5b649c1887",
   "metadata": {},
   "source": [
    "---\n",
    "\n",
    "### 16. Variables that “contain” list values don’t actually contain lists directly. What do they contain instead?"
   ]
  },
  {
   "cell_type": "code",
   "execution_count": null,
   "id": "d96964ce-4255-42d8-8e72-a002abbaab7e",
   "metadata": {},
   "outputs": [],
   "source": []
  },
  {
   "cell_type": "markdown",
   "id": "5e5d693d-903b-4dd1-95a7-6988ef92677d",
   "metadata": {},
   "source": [
    "---\n",
    "\n",
    "### 17. What is the difference between `copy.copy()` and `copy.deepcopy()`?"
   ]
  },
  {
   "cell_type": "code",
   "execution_count": null,
   "id": "3e4eb323-2b75-4c2e-8d27-3716c6885f53",
   "metadata": {},
   "outputs": [],
   "source": []
  },
  {
   "cell_type": "markdown",
   "id": "0df01d46-d655-45c4-a204-b5220ca0ab64",
   "metadata": {},
   "source": [
    "---\n",
    "\n",
    "## Practice Projects\n"
   ]
  },
  {
   "cell_type": "markdown",
   "id": "2da790eb-fa69-4dc9-9452-a2e8dec177e7",
   "metadata": {},
   "source": [
    "---\n",
    "\n",
    "### Comma Code\n",
    "\n",
    "Say you have a list value like this:\n",
    "`spam = ['apples', 'bananas', 'tofu', 'cats']`\n",
    "\n",
    "Write a function that takes a list value as an argument and returns a string with all the items separated by a comma and a space, with and inserted before the last item. For example, passing the previous spam list to the function would return 'apples, bananas, tofu, and cats'. But your function should be able to work with any list value passed to it. Be sure to test the case where an empty list [] is passed to your function."
   ]
  },
  {
   "cell_type": "code",
   "execution_count": null,
   "id": "81d70589-c98b-4c4c-8512-5b5811112d39",
   "metadata": {},
   "outputs": [],
   "source": []
  },
  {
   "cell_type": "markdown",
   "id": "d5211bdc-c787-4ffd-87b2-066c5f57415f",
   "metadata": {},
   "source": [
    "---\n",
    "\n",
    "### Coin Flip Streaks\n",
    "\n",
    "For this exercise, we’ll try doing an experiment. If you flip a coin 100 times and write down an “H” for each heads and “T” for each tails, you’ll create a list that looks like “T T T T H H H H T T.” If you ask a human to make up 100 random coin flips, you’ll probably end up with alternating head-tail results like “H T H T H H T H T T,” which looks random (to humans), but isn’t mathematically random. A human will almost never write down a streak of six heads or six tails in a row, even though it is highly likely to happen in truly random coin flips. Humans are predictably bad at being random.\n",
    "\n",
    "Write a program to find out how often a streak of six heads or a streak of six tails comes up in a randomly generated list of heads and tails. Your program breaks up the experiment into two parts: the first part generates a list of randomly selected 'heads' and 'tails' values, and the second part checks if there is a streak in it. Put all of this code in a loop that repeats the experiment 10,000 times so we can find out what percentage of the coin flips contains a streak of six heads or tails in a row. As a hint, the function call random.randint(0, 1) will return a 0 value 50% of the time and a 1 value the other 50% of the time.\n",
    "\n",
    "You can start with the following template:\n",
    "\n",
    "```\n",
    "import random\n",
    "numberOfStreaks = 0\n",
    "for experimentNumber in range(10000):\n",
    "    # Code that creates a list of 100 'heads' or 'tails' values.\n",
    "\n",
    "    # Code that checks if there is a streak of 6 heads or tails in a row.\n",
    "print('Chance of streak: %s%%' % (numberOfStreaks / 100))\n",
    "```\n",
    "\n",
    "Of course, this is only an estimate, but 10,000 is a decent sample size. Some knowledge of mathematics could give you the exact answer and save you the trouble of writing a program, but programmers are notoriously bad at math."
   ]
  },
  {
   "cell_type": "code",
   "execution_count": null,
   "id": "5020070f-01b4-42bb-9eb8-62bfdab9f9b8",
   "metadata": {},
   "outputs": [],
   "source": []
  },
  {
   "cell_type": "markdown",
   "id": "ba319bb9-c414-4b8c-887d-d7301cf337e1",
   "metadata": {},
   "source": [
    "---\n",
    "\n",
    "### Character Picture Grid\n",
    "\n",
    "Say you have a list of lists where each value in the inner lists is a one-character string, like this:\n",
    "```\n",
    "grid = [['.', '.', '.', '.', '.', '.'],\n",
    "        ['.', 'O', 'O', '.', '.', '.'],\n",
    "        ['O', 'O', 'O', 'O', '.', '.'],\n",
    "        ['O', 'O', 'O', 'O', 'O', '.'],\n",
    "        ['.', 'O', 'O', 'O', 'O', 'O'],\n",
    "        ['O', 'O', 'O', 'O', 'O', '.'],\n",
    "        ['O', 'O', 'O', 'O', '.', '.'],\n",
    "        ['.', 'O', 'O', '.', '.', '.'],\n",
    "        ['.', '.', '.', '.', '.', '.']]\n",
    "```\n",
    "\n",
    "Think of `grid[x][y]` as being the character at the x- and y-coordinates of a “picture” drawn with text characters. The (0, 0) origin is in the upper-left corner, the x-coordinates increase going right, and the y-coordinates increase going down.\n",
    "Copy the previous grid value, and write code that uses it to print the image.\n",
    "```\n",
    "..OO.OO..\n",
    ".OOOOOOO.\n",
    ".OOOOOOO.\n",
    "..OOOOO..\n",
    "...OOO...\n",
    "....O....\n",
    "```\n",
    "Hint: You will need to use a loop in a loop in order to print `grid[0][0]`, then `grid[1][0]`, then `grid[2][0]`, and so on, up to `grid[8][0]`. This will finish the first row, so then print a newline. Then your program should print `grid[0][1]`, then `grid[1][1]`, then `grid[2][1]`, and so on. The last thing your program will print is `grid[8][5]`.\n",
    "Also, remember to pass the end keyword argument to `print()` if you don’t want a newline printed automatically after each `print()` call."
   ]
  },
  {
   "cell_type": "code",
   "execution_count": null,
   "id": "af7d9680-4870-40e2-bf03-597db59de58f",
   "metadata": {},
   "outputs": [],
   "source": []
  }
 ],
 "metadata": {
  "kernelspec": {
   "display_name": "Python 3",
   "language": "python",
   "name": "python3"
  },
  "language_info": {
   "codemirror_mode": {
    "name": "ipython",
    "version": 3
   },
   "file_extension": ".py",
   "mimetype": "text/x-python",
   "name": "python",
   "nbconvert_exporter": "python",
   "pygments_lexer": "ipython3",
   "version": "3.8.8"
  }
 },
 "nbformat": 4,
 "nbformat_minor": 5
}
