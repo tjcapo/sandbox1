{
 "cells": [
  {
   "cell_type": "markdown",
   "id": "266cc6f6-2dbd-4c93-bc57-0e2b215ba6bd",
   "metadata": {},
   "source": [
    "## Chapter 1 Problems"
   ]
  },
  {
   "cell_type": "markdown",
   "id": "a80398e1-3968-4ce6-9ae5-8efa428453dd",
   "metadata": {},
   "source": [
    "### 1. Which of the following are operators, and which are values?\n",
    "\n",
    "> \\* </br>\n",
    "'hello'</br>\n",
    "-88.8</br>\n",
    "-</br>\n",
    "/</br>\n",
    "+</br>\n",
    "5"
   ]
  },
  {
   "cell_type": "markdown",
   "id": "49f85f51-13e3-4f46-92e1-f791d8e8546f",
   "metadata": {},
   "source": [
    "Operators: *, -, /, + </br>\n",
    "Values: hello, -88.8, 5"
   ]
  },
  {
   "cell_type": "markdown",
   "id": "d2f31107-e184-4585-b791-5b3ff541e25f",
   "metadata": {},
   "source": [
    "### 2. Which of the following is a variable, and which is a string?\n",
    "\n",
    ">spam</br>\n",
    "'spam'"
   ]
  },
  {
   "cell_type": "markdown",
   "id": "0dd266b4-0a99-4bf9-a569-05a79336e155",
   "metadata": {},
   "source": [
    "Variable: spam </br>\n",
    "String: 'spam'"
   ]
  },
  {
   "cell_type": "markdown",
   "id": "a7d911c9-be52-4536-b449-d766f9da032b",
   "metadata": {},
   "source": [
    "### 3. Name 3 data types."
   ]
  },
  {
   "cell_type": "markdown",
   "id": "1cc0ec74-d4a3-4b75-9a6b-13077f595264",
   "metadata": {},
   "source": [
    "floating-point, string, integer"
   ]
  },
  {
   "cell_type": "markdown",
   "id": "59f7bba8-8db0-4e88-91db-468bf52a7d09",
   "metadata": {},
   "source": [
    "### 4. What is an expression made up of? What do all expressions do?"
   ]
  },
  {
   "cell_type": "markdown",
   "id": "e632e562-fe4b-4396-8dd0-087b6673d2c0",
   "metadata": {},
   "source": [
    "An expesssion is made up of _values_ and _operators_.</br>\n",
    "All expressions evaluate down to a single value."
   ]
  },
  {
   "cell_type": "markdown",
   "id": "bb3839f2-8e43-4ac8-8eec-76138d8c8195",
   "metadata": {},
   "source": [
    "### 5. This chapter introduced assignment statements, like <code>spam = 100</code>. What is the difference between an expression and a statement?"
   ]
  },
  {
   "cell_type": "markdown",
   "id": "cde22d0c-1090-452b-a7b5-1fc5f20cf1e6",
   "metadata": {},
   "source": [
    "A statement is a stored variable. </br>\n",
    "An expression evaluates combinations of values and variables."
   ]
  },
  {
   "cell_type": "markdown",
   "id": "d7a41616-29b6-4617-8562-01fdb75b6528",
   "metadata": {},
   "source": [
    "### 6. What does the variable _bacon_ contain after the following code runs?\n",
    "\n",
    "<code>\n",
    "    bacon = 20\n",
    "    bacon + 1\n",
    "</code>"
   ]
  },
  {
   "cell_type": "markdown",
   "id": "74f2ad34-7782-4c96-a56e-e2cf4f678799",
   "metadata": {},
   "source": [
    "The variable bacon contains the value 20"
   ]
  },
  {
   "cell_type": "markdown",
   "id": "a5ffb926-289b-4bb6-bc2f-a1f629f4907b",
   "metadata": {},
   "source": [
    "### 7. What should the following two expressions evaluate to?\n",
    "\n",
    "<code>\n",
    "    'spam' + 'spamspam'\n",
    "    'spam' * 3\n",
    "</code>\n"
   ]
  },
  {
   "cell_type": "markdown",
   "id": "aeb4c037-745e-4ede-8505-1dfc4c07a0e9",
   "metadata": {},
   "source": [
    "Both expressions evaluate to 'spamspamspam'"
   ]
  },
  {
   "cell_type": "markdown",
   "id": "51ab923b-42c4-480f-b544-404baf7c9d60",
   "metadata": {},
   "source": [
    "### 8. Why is _eggs_ a valid variable name while _100_ is invalid?"
   ]
  },
  {
   "cell_type": "markdown",
   "id": "f94c8900-6473-4c31-92d0-9dd9508ee727",
   "metadata": {},
   "source": [
    "_eggs_ is valid because it is one word with no spaces, only contains letters, and doesn't begin with a number. </br>\n",
    "_100_ is invalid because it begins with a number."
   ]
  },
  {
   "cell_type": "markdown",
   "id": "502a4ea4-6cff-4ee1-84fb-67655104e44c",
   "metadata": {},
   "source": [
    "### 9. What three functions can be used to get the integer, floating point number, or string version of a value?"
   ]
  },
  {
   "cell_type": "code",
   "execution_count": 3,
   "id": "598b55e6-0b18-47b4-9889-434ca2aeffe7",
   "metadata": {},
   "outputs": [
    {
     "data": {
      "text/plain": [
       "''"
      ]
     },
     "execution_count": 3,
     "metadata": {},
     "output_type": "execute_result"
    }
   ],
   "source": [
    "int()\n",
    "float()\n",
    "str()"
   ]
  },
  {
   "cell_type": "markdown",
   "id": "5c4ec989-f73e-4039-83cc-438930b7edef",
   "metadata": {},
   "source": [
    "#### What does this expression cause an error? How can you fix it?\n",
    "\n",
    "<code>\n",
    "    'I have eaten' + 99 + 'burritos.'\n",
    "</code>"
   ]
  },
  {
   "cell_type": "markdown",
   "id": "e3df5373-dfae-4595-ad80-5b9aa2a591a0",
   "metadata": {},
   "source": [
    "The error is caused by attempting to add string and integer values together. Try:\n",
    "\n",
    "<code>\n",
    "    'I have eaten ' + str(99) + ' burritos.'\n",
    "</code>"
   ]
  },
  {
   "cell_type": "code",
   "execution_count": 5,
   "id": "0b9db2b8-51b8-4457-be8c-c0c510b685b5",
   "metadata": {},
   "outputs": [
    {
     "name": "stdout",
     "output_type": "stream",
     "text": [
      "I have eaten 99 burritos.\n"
     ]
    }
   ],
   "source": [
    "print('I have eaten ' + str(99) + ' burritos.')"
   ]
  },
  {
   "cell_type": "markdown",
   "id": "c5b5d856-444a-4323-af08-f24990341c59",
   "metadata": {},
   "source": [
    "### Extra Credit: Search online for the Python documentation for the <code>len()</code> function. It will be on a web page titled \"Built-in Functions.\" Skim the list of other functions Python has, look up that the <code>round()</code> function does, and experiment with it in the interactive shell."
   ]
  },
  {
   "cell_type": "markdown",
   "id": "593057ef-e6de-4278-94d8-cf1777cecffb",
   "metadata": {},
   "source": [
    "<code>lens(s)</code> returns the length of an object. The argument may be a sequence (such as a string, bytes, tuple, list, or range) or a collection (such as a dictionary, set, or frozen set)."
   ]
  },
  {
   "cell_type": "markdown",
   "id": "39b26a20-b8c2-486e-9099-036226af5784",
   "metadata": {},
   "source": [
    "<code>round(number[, ndigits])</code> returns <code>number</code> rounded to <code>ndigits</code> precision after the decimal point. If <code>ndigits</code> is omitted or is <code>None</code>, it returns the nearest integer to its input."
   ]
  },
  {
   "cell_type": "code",
   "execution_count": 15,
   "id": "34e1f1f8-a90c-4910-9579-1f5b4a72a9db",
   "metadata": {},
   "outputs": [
    {
     "data": {
      "text/plain": [
       "4"
      ]
     },
     "execution_count": 15,
     "metadata": {},
     "output_type": "execute_result"
    }
   ],
   "source": [
    "round(3.9293487239878593)"
   ]
  },
  {
   "cell_type": "code",
   "execution_count": null,
   "id": "7647d39a-f77a-4902-9be4-e68acca2ba4e",
   "metadata": {},
   "outputs": [],
   "source": []
  }
 ],
 "metadata": {
  "kernelspec": {
   "display_name": "Python 3",
   "language": "python",
   "name": "python3"
  },
  "language_info": {
   "codemirror_mode": {
    "name": "ipython",
    "version": 3
   },
   "file_extension": ".py",
   "mimetype": "text/x-python",
   "name": "python",
   "nbconvert_exporter": "python",
   "pygments_lexer": "ipython3",
   "version": "3.8.8"
  }
 },
 "nbformat": 4,
 "nbformat_minor": 5
}
