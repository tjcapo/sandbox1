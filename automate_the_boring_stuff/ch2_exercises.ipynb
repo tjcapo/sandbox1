{
 "cells": [
  {
   "cell_type": "markdown",
   "id": "4ae90aba-1278-4c62-b8cd-0132ba726eb5",
   "metadata": {},
   "source": [
    "## Chapter 2 Problems"
   ]
  },
  {
   "cell_type": "markdown",
   "id": "f9e7a298-e767-4a5f-b0ee-2daced2df58f",
   "metadata": {},
   "source": [
    "---\n",
    "### 1. What are the two values of the Boolean data type? How do you write them?"
   ]
  },
  {
   "cell_type": "markdown",
   "id": "9d66acc8-62a7-4d96-9c02-20b3808f184b",
   "metadata": {},
   "source": [
    "<code>True</code> and <code>False</code>"
   ]
  },
  {
   "cell_type": "markdown",
   "id": "9f655c63-5755-4aff-94ec-526a6041968e",
   "metadata": {},
   "source": [
    "---\n",
    "### 2. What are the three Boolean operators?"
   ]
  },
  {
   "cell_type": "markdown",
   "id": "0febe949-c882-4400-80b0-c7c2b4801aed",
   "metadata": {},
   "source": [
    "<code>and</code>, <code>or</code>, and <code>not</code>"
   ]
  },
  {
   "cell_type": "markdown",
   "id": "97ee07ca-0a4f-4b81-93eb-e7d83e9225f0",
   "metadata": {},
   "source": [
    "---\n",
    "### 3. Write out the truth tables of each Boolean operator (that is, every possible combination of Boolean values for the operator and what they evaluate to)."
   ]
  },
  {
   "cell_type": "markdown",
   "id": "2e9e3d3b-66de-4ff7-80d2-73f1fed9ac14",
   "metadata": {},
   "source": [
    "#### _and operator_\n",
    "True and True = True </br>\n",
    "True and False = False </br>\n",
    "False and True = False </br>\n",
    "False and False = False </br>\n",
    "\n",
    "#### _or operator_\n",
    "True or True = True </br>\n",
    "True or False = True </br>\n",
    "False or True = True </br>\n",
    "False or False = False </br>\n",
    "\n",
    "#### _not operator_\n",
    "not True = False </br>\n",
    "not False = True </br>\n"
   ]
  },
  {
   "cell_type": "markdown",
   "id": "4ed58a0f-d0da-4393-a03f-239740d9a792",
   "metadata": {},
   "source": [
    "---\n",
    "\n",
    "### 4. What do the following expressions evaluate to?\n",
    "\n",
    "<code>\n",
    "    a.    (5>4) and (3==5)\n",
    "    b.    not (5>4)\n",
    "    c.    (5>4) or (3==5)\n",
    "    d.    not ((5>4) or (3==5))\n",
    "    e.    (True and True) and (True == False)\n",
    "    f.    (not False) or (not True)\n",
    "</code>"
   ]
  },
  {
   "cell_type": "markdown",
   "id": "a38ac3e2-840c-452d-83de-46e4cf0ee3e1",
   "metadata": {},
   "source": [
    "a. True and False = False </br>\n",
    "b. not True = False </br>\n",
    "c. True or False = True </br>\n",
    "d. not (True or False) = not True = False </br>\n",
    "e. True and False = False </br>\n",
    "f. True or False = True"
   ]
  },
  {
   "cell_type": "markdown",
   "id": "02ce5c61-b81b-45af-863f-213b7b964471",
   "metadata": {},
   "source": [
    "---\n",
    "### 5. What are the six comparison operators?"
   ]
  },
  {
   "cell_type": "markdown",
   "id": "85d2ed0b-67bc-4796-af4b-ae0cda27b948",
   "metadata": {},
   "source": [
    "== Equal to </br>\n",
    "!= Not equal to </br>\n",
    "< Less than </br>\n",
    "\\> Greater than </br>\n",
    "<= Less than or equal to </br>\n",
    "\\>=Greater than or equal to"
   ]
  },
  {
   "cell_type": "markdown",
   "id": "7fb2df11-ec20-40c9-be2c-ebbc6e50d373",
   "metadata": {},
   "source": [
    "---\n",
    "### 6. What is the difference between the equal to operator and the assignment operator"
   ]
  },
  {
   "cell_type": "markdown",
   "id": "39ea5e15-f9e8-4494-bfd3-7d483fb50eb7",
   "metadata": {},
   "source": [
    "The equal to operator is == and the assignment operator is ="
   ]
  },
  {
   "cell_type": "markdown",
   "id": "0bb25d98-9c8c-47b7-82c7-fe0c5c5dfe8c",
   "metadata": {},
   "source": [
    "---\n",
    "### 7. Explain what a condition is and where you would use one."
   ]
  },
  {
   "cell_type": "markdown",
   "id": "664ee292-61ac-4e65-837b-e181d9149efd",
   "metadata": {},
   "source": [
    "A condition is used to execute different lines of code based on user behaviour."
   ]
  },
  {
   "cell_type": "markdown",
   "id": "61c19e7b-2693-41dd-8f4d-1cb10a695439",
   "metadata": {},
   "source": [
    "---\n",
    "### 8. Identify the three blocks in this code:\n",
    "\n",
    "```\n",
    "    spam = 0\n",
    "    if spam == 10:\n",
    "        print('eggs')\n",
    "        if spam > 5:\n",
    "            print('bacon')\n",
    "        else:\n",
    "            print('ham')\n",
    "        print('spam')\n",
    "    print('spam')\n",
    "```"
   ]
  },
  {
   "cell_type": "markdown",
   "id": "c25d9cfc-aa95-4c8a-bf1d-0c9add835f6a",
   "metadata": {},
   "source": [
    "**Block 1**\n",
    "``` \n",
    "    if spam == 10:\n",
    "        print ('eggs')\n",
    "        if spam > 5:\n",
    "            print('bacon')\n",
    "        else:\n",
    "            print('ham')\n",
    "        print('spam')\n",
    "    print('spam')\n",
    "```\n",
    "\n",
    "**Block 2**\n",
    "```\n",
    "    print ('eggs')\n",
    "    if spam > 5:\n",
    "        print('bacon')\n",
    "    else:\n",
    "        print('ham')\n",
    "    print('spam')\n",
    "```\n",
    "\n",
    "**Block 3**\n",
    "```\n",
    "    if spam > 5:\n",
    "        print('bacon')\n",
    "    else:\n",
    "        print('ham')\n",
    "```"
   ]
  },
  {
   "cell_type": "markdown",
   "id": "77ee2dfd-9fa0-4893-9141-19e150a45648",
   "metadata": {},
   "source": [
    "---\n",
    "### 9. Write code that prints <code>Hello</code> if 1 is stored in <code>spam</code>, prints <code>Howdy</code> if 2 is stored in <code>spam</code>, and prints <code>Greetings!</code> if anything else is stored in spam."
   ]
  },
  {
   "cell_type": "code",
   "execution_count": 5,
   "id": "d4f8ce82-7567-469b-92ee-0df0e4568023",
   "metadata": {},
   "outputs": [
    {
     "name": "stdout",
     "output_type": "stream",
     "text": [
      "How many spams?\n"
     ]
    },
    {
     "name": "stdin",
     "output_type": "stream",
     "text": [
      " 3\n"
     ]
    },
    {
     "name": "stdout",
     "output_type": "stream",
     "text": [
      "Greetings!\n"
     ]
    }
   ],
   "source": [
    "print('How many spams?')\n",
    "spam = int(input())\n",
    "\n",
    "if spam == 1:\n",
    "    print('Hello')\n",
    "elif spam == 2:\n",
    "    print('Howdy')\n",
    "else:\n",
    "    print('Greetings!')\n"
   ]
  },
  {
   "cell_type": "markdown",
   "id": "e6f1c4c5-492a-431a-a6ac-b587cb10cc23",
   "metadata": {},
   "source": [
    "---\n",
    "### 10. What keys can you press if your program is stuck in an infinite loop?"
   ]
  },
  {
   "cell_type": "markdown",
   "id": "1bda9123-08ce-4d41-8a28-a2abdfa81389",
   "metadata": {},
   "source": [
    "control + c"
   ]
  },
  {
   "cell_type": "markdown",
   "id": "ae78b25c-3546-4704-968e-f54496e37ae3",
   "metadata": {},
   "source": [
    "---\n",
    "### 11. What is the difference between <code>break</code> and <code>continue</code>?"
   ]
  },
  {
   "cell_type": "markdown",
   "id": "755297b9-d9f3-4b40-88f8-578f70feff45",
   "metadata": {},
   "source": [
    "A `break` statement causes the execution to immediately leave the loop without re-checking the condition.</br>\n",
    "A `continue` statement causes the execution to immeditately jump back to the start of the loop and re-check the condition. "
   ]
  },
  {
   "cell_type": "markdown",
   "id": "7a1e95f0-937e-44ae-afae-3fd2601269ab",
   "metadata": {},
   "source": [
    "---\n",
    "### 12. What is the difference between <code>range(10)</code>, <code>range(0,10)</code>, and <code>range(0, 10, 1)</code> in a <code>for</code> loop?"
   ]
  },
  {
   "cell_type": "markdown",
   "id": "e780d2c0-15f4-4873-bf9b-a1602f6adaa7",
   "metadata": {},
   "source": [
    "`range(10)` says to count up to but not including 10 </br>\n",
    "`range(0, 10)` says to start at 0 and count up to but not including 10 </br>\n",
    "`range(0, 10, 1)` says to start at 0 and count up to but not including 10 in increments of 1 \n"
   ]
  },
  {
   "cell_type": "markdown",
   "id": "a84d4d7d-935a-40fd-8020-86d2f487fc51",
   "metadata": {},
   "source": [
    "---\n",
    "### 13. Write a short program that prints the numbers 1 to 10 using a <code>for</code> loop. Then write an equivalent program that prints the numbers 1 to 10 using a <code>while</code> loop."
   ]
  },
  {
   "cell_type": "code",
   "execution_count": 9,
   "id": "6da28e14-7ec8-4cb8-81fc-cb7575a506bf",
   "metadata": {},
   "outputs": [
    {
     "name": "stdout",
     "output_type": "stream",
     "text": [
      "Time to count\n",
      "1\n",
      "2\n",
      "3\n",
      "4\n",
      "5\n",
      "6\n",
      "7\n",
      "8\n",
      "9\n",
      "10\n"
     ]
    }
   ],
   "source": [
    "print('Time to count')\n",
    "n = 0\n",
    "for n in range(1, 11):\n",
    "    print(n)"
   ]
  },
  {
   "cell_type": "code",
   "execution_count": 10,
   "id": "c6725f43-9145-4b30-ad84-da28840f2092",
   "metadata": {},
   "outputs": [
    {
     "name": "stdout",
     "output_type": "stream",
     "text": [
      "Time to count again\n",
      "1\n",
      "2\n",
      "3\n",
      "4\n",
      "5\n",
      "6\n",
      "7\n",
      "8\n",
      "9\n",
      "10\n"
     ]
    }
   ],
   "source": [
    "print ('Time to count again')\n",
    "n = 1\n",
    "while n < 11:\n",
    "    print(n)\n",
    "    n = n + 1"
   ]
  },
  {
   "cell_type": "markdown",
   "id": "52541632-03fe-4271-bf6f-a194a4ce23fc",
   "metadata": {},
   "source": [
    "---\n",
    "### 14. If you had a function named <code>bacon()</code> inside a module named <code>spam</code>, how would you call it after importing <code>spam</code>? "
   ]
  },
  {
   "cell_type": "markdown",
   "id": "fef15dbc-5218-4735-b13c-213712ae29fc",
   "metadata": {},
   "source": [
    "`spam.bacon()`"
   ]
  },
  {
   "cell_type": "markdown",
   "id": "88358b7e-c5a1-4c1a-8e4c-251c1f9587bd",
   "metadata": {},
   "source": [
    "---\n",
    "### Extra credit: Look up the <code>round()</code> and <code>abs()</code> functions and find out what they do. Experiment with them."
   ]
  },
  {
   "cell_type": "code",
   "execution_count": null,
   "id": "3eec76da-e758-44d9-b26d-f2e983dc3d65",
   "metadata": {},
   "outputs": [],
   "source": []
  }
 ],
 "metadata": {
  "kernelspec": {
   "display_name": "Python 3",
   "language": "python",
   "name": "python3"
  },
  "language_info": {
   "codemirror_mode": {
    "name": "ipython",
    "version": 3
   },
   "file_extension": ".py",
   "mimetype": "text/x-python",
   "name": "python",
   "nbconvert_exporter": "python",
   "pygments_lexer": "ipython3",
   "version": "3.8.8"
  }
 },
 "nbformat": 4,
 "nbformat_minor": 5
}
