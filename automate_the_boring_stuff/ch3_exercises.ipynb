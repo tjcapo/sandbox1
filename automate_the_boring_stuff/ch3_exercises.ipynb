{
 "cells": [
  {
   "cell_type": "markdown",
   "id": "4ac6c547-5e53-42b9-a931-734d48e9f9c5",
   "metadata": {},
   "source": [
    "## Chapter 3"
   ]
  },
  {
   "cell_type": "markdown",
   "id": "1ef8ce4a-9891-43b7-955c-f67dd48e49ba",
   "metadata": {},
   "source": [
    "---\n",
    "### 1. Why are functions advantageous to have in your programs?"
   ]
  },
  {
   "cell_type": "markdown",
   "id": "edba9750-0bcf-4256-a25a-70e70bed0a4e",
   "metadata": {},
   "source": [
    "A function is a mini program that gets executred multiple times. Without a function defined, you would have to copy and paste the contents each time you need the prgram to perform the action."
   ]
  },
  {
   "cell_type": "markdown",
   "id": "8260fca6-ef86-461b-851b-afe748cdaca2",
   "metadata": {},
   "source": [
    "---\n",
    "### 2. When does the code in a function execute: when the function is defined or when the function is called?"
   ]
  },
  {
   "cell_type": "markdown",
   "id": "091a28b0-0bbc-4c8c-9497-01ca6a2be327",
   "metadata": {},
   "source": [
    "The function executes when it is called."
   ]
  },
  {
   "cell_type": "markdown",
   "id": "4102940f-a96b-42cc-b68b-4a8f8cedaab0",
   "metadata": {},
   "source": [
    "---\n",
    "### 3. What statement creates a function?"
   ]
  },
  {
   "cell_type": "markdown",
   "id": "f0548a1c-7eac-4096-a33b-4b0d06a71050",
   "metadata": {},
   "source": [
    "`def`"
   ]
  },
  {
   "cell_type": "markdown",
   "id": "b37a0a85-c34b-4e0b-a4ed-9d2a00957e9e",
   "metadata": {},
   "source": [
    "---\n",
    "### 4. What is the difference between a function and a function call?"
   ]
  },
  {
   "cell_type": "markdown",
   "id": "78195ed5-82f2-457d-b0fc-c1115bce868a",
   "metadata": {},
   "source": [
    "A function is a defined set of code that the function executes. A funtion call is the command to run the function."
   ]
  },
  {
   "cell_type": "markdown",
   "id": "be0fd24d-8479-49c2-a8cd-8caeeb1210b5",
   "metadata": {},
   "source": [
    "---\n",
    "### 5. How many global scopes are there in a Python program? How many local scopes?"
   ]
  },
  {
   "cell_type": "markdown",
   "id": "f3fc5427-f5d5-49e2-9836-1335bec66e08",
   "metadata": {},
   "source": [
    "A global scope is created each time you run a program and a local scope is created when you call a functon. Scopes are destroyed when the program or function is terminated."
   ]
  },
  {
   "cell_type": "markdown",
   "id": "83008a95-2c64-4f33-8b5a-f332445fefb4",
   "metadata": {},
   "source": [
    "---\n",
    "### 6. What happens to variables in a local scope when the function call returns?"
   ]
  },
  {
   "cell_type": "markdown",
   "id": "a6b94b6d-3d91-4df0-bd76-8079e143c85f",
   "metadata": {},
   "source": [
    "The local scope is destroyed when the function call returns."
   ]
  },
  {
   "cell_type": "markdown",
   "id": "e3cee0f8-b7c9-4b62-98aa-2b9eeb8804f2",
   "metadata": {},
   "source": [
    "---\n",
    "### 7. What is a return value? Can a return value be part of an expression?"
   ]
  },
  {
   "cell_type": "markdown",
   "id": "d9813c5b-3de2-486a-a434-c8dc45d9c6d2",
   "metadata": {},
   "source": [
    "A return value is what a function will spit out if its parameters are met. "
   ]
  },
  {
   "cell_type": "markdown",
   "id": "b9720207-fbfa-43e2-9a10-b1c02964f665",
   "metadata": {},
   "source": [
    "---\n",
    "### 8. If a function does not have a return statement, what is the return value of a call to that function?"
   ]
  },
  {
   "cell_type": "markdown",
   "id": "9a919889-72d2-43b0-b866-72422a3793c2",
   "metadata": {},
   "source": [
    "`None`"
   ]
  },
  {
   "cell_type": "markdown",
   "id": "c5d983fd-b44f-40ef-83c9-095f4d712906",
   "metadata": {},
   "source": [
    "---\n",
    "### 9. How can you force a variable in a function to refer to the global variable?"
   ]
  },
  {
   "cell_type": "markdown",
   "id": "058d1eef-3c3e-4e66-89ca-d6592a1a0f7f",
   "metadata": {},
   "source": [
    "With the `global` statement"
   ]
  },
  {
   "cell_type": "markdown",
   "id": "219e355b-607b-4dc9-94cc-d55bb317fbba",
   "metadata": {},
   "source": [
    "---\n",
    "### 10. What is the data type of `None`?"
   ]
  },
  {
   "cell_type": "markdown",
   "id": "47abe22b-215f-4f18-8206-768e4ab9021d",
   "metadata": {},
   "source": [
    "It is the only value of the `NoneType` datatype"
   ]
  },
  {
   "cell_type": "markdown",
   "id": "2c6916d2-dc4b-4f97-aa68-86124557ac02",
   "metadata": {},
   "source": [
    "---\n",
    "### 11. What does the import `areallyourpetsnamederic` statement do?"
   ]
  },
  {
   "cell_type": "markdown",
   "id": "22ab4e57-b852-497b-a81b-035dad594b7d",
   "metadata": {},
   "source": [
    "It imports the module called `areallyourpetsnamederic`"
   ]
  },
  {
   "cell_type": "markdown",
   "id": "2946061f-45a7-4128-b0a5-bad10d51ef1d",
   "metadata": {},
   "source": [
    "---\n",
    "### 12. If you had a function named `bacon()` in a module named `spam`, how would you call it after importing `spam`?"
   ]
  },
  {
   "cell_type": "markdown",
   "id": "cd39d7e6-b65d-4ead-8d3a-593eddf5e9e5",
   "metadata": {},
   "source": [
    "`spam.bacon()`"
   ]
  },
  {
   "cell_type": "markdown",
   "id": "2d8d0930-eaae-46db-9096-51c5c86c57e0",
   "metadata": {},
   "source": [
    "---\n",
    "### 13. How can you prevent a program from crashing when it gets an error?"
   ]
  },
  {
   "cell_type": "markdown",
   "id": "e76e79dd-a9dc-4e50-bd85-411b65406a7d",
   "metadata": {},
   "source": [
    "Using `try` and `except` statements"
   ]
  },
  {
   "cell_type": "markdown",
   "id": "5c18a3f0-7454-46c5-b512-82db5d845ebd",
   "metadata": {},
   "source": [
    "---\n",
    "### 14. What goes in the `try` clause? What goes in the `except` clause?"
   ]
  },
  {
   "cell_type": "markdown",
   "id": "3f8e7689-1131-4ef3-802c-79caafcb7c30",
   "metadata": {},
   "source": [
    "Code that has potential for error goes in the `try` clause. Alternative code for when an error occurs go in the `except` clause."
   ]
  },
  {
   "cell_type": "markdown",
   "id": "d0b19d97-ec10-46cc-b9e4-4c065265403c",
   "metadata": {},
   "source": [
    "---\n",
    "## Practice Projects\n"
   ]
  },
  {
   "cell_type": "markdown",
   "id": "ef5bf233-b018-4620-9348-0fb610eb0f35",
   "metadata": {},
   "source": [
    "---\n",
    "### The Collatz Sequence\n",
    "\n",
    "Write a function named `collatz()` that has one parameter named `number`. If `number` is even, then `collatz()` should print `number // 2` and return this value. If number is odd, then `collatz()` should print and return `3 * number + 1`.</br>\n",
    "\n",
    "Then write a program that lets the user type in an integer and that keeps calling `collatz()` on that number until the function returns the value `1`. (Amazingly enough, this sequence actually works for any integer—sooner or later, using this sequence, you’ll arrive at 1! Even mathematicians aren’t sure why. Your program is exploring what’s called the Collatz sequence, sometimes called “the simplest impossible math problem.”) </br>\n",
    "\n",
    "Remember to convert the return value from `input()` to an integer with the `int()` function; otherwise, it will be a string value. </br>\n",
    "\n",
    "Hint: An integer number is even if number % 2 == 0, and it’s odd if number % 2 == 1. </br>\n",
    "\n",
    "The output of this program could look something like this:\n",
    "```\n",
    "Enter number:\n",
    "3\n",
    "10\n",
    "5\n",
    "16\n",
    "8\n",
    "4\n",
    "2\n",
    "1\n",
    "```\n"
   ]
  },
  {
   "cell_type": "code",
   "execution_count": 4,
   "id": "6f418e8c-0d87-4c23-81cf-df4b2196f23d",
   "metadata": {},
   "outputs": [
    {
     "name": "stdout",
     "output_type": "stream",
     "text": [
      "Pick an integer:\n"
     ]
    },
    {
     "name": "stdin",
     "output_type": "stream",
     "text": [
      " 3\n"
     ]
    },
    {
     "name": "stdout",
     "output_type": "stream",
     "text": [
      "3\n",
      "10\n",
      "5\n",
      "16\n",
      "8\n",
      "4\n",
      "2\n",
      "1\n"
     ]
    }
   ],
   "source": [
    "### Collatz Sequence\n",
    "\n",
    "\n",
    "def collatz(number):\n",
    "    while number != 1.0:\n",
    "        print(number)\n",
    "        if number % 2 == 0:\n",
    "            number = number // 2\n",
    "        else:\n",
    "            number = 3 * number + 1\n",
    "    if number == 1.0:\n",
    "        print(number)\n",
    "     \n",
    "    \n",
    "print('Pick an integer:')\n",
    "choice = int(input())\n",
    "\n",
    "collatz(choice)"
   ]
  },
  {
   "cell_type": "markdown",
   "id": "199102a5-578e-437d-be28-787b2bfb11db",
   "metadata": {},
   "source": [
    "---\n",
    "### Input Validation\n",
    "\n",
    "Add `try` and `except` statements to the previous project to detect whether the user types in a noninteger string. Normally, the `int()` function will raise a `ValueError` error if it is passed a noninteger string, as in `int('puppy')`. In the `except` clause, print a message to the user saying they must enter an integer."
   ]
  },
  {
   "cell_type": "code",
   "execution_count": 12,
   "id": "d1a67ebe-17a4-4659-87a0-5bab4bfbd776",
   "metadata": {},
   "outputs": [
    {
     "name": "stdout",
     "output_type": "stream",
     "text": [
      "Pick an integer:\n"
     ]
    },
    {
     "name": "stdin",
     "output_type": "stream",
     "text": [
      " no\n"
     ]
    },
    {
     "name": "stdout",
     "output_type": "stream",
     "text": [
      "Invalid entry\n",
      "Pick an integer:\n"
     ]
    },
    {
     "name": "stdin",
     "output_type": "stream",
     "text": [
      " Walrus\n"
     ]
    },
    {
     "name": "stdout",
     "output_type": "stream",
     "text": [
      "Invalid entry\n",
      "Pick an integer:\n"
     ]
    },
    {
     "name": "stdin",
     "output_type": "stream",
     "text": [
      " 5\n"
     ]
    },
    {
     "name": "stdout",
     "output_type": "stream",
     "text": [
      "5\n",
      "16\n",
      "8\n",
      "4\n",
      "2\n",
      "1\n"
     ]
    }
   ],
   "source": [
    "def collatz(number):\n",
    "    while number != 1.0:\n",
    "        print(number)\n",
    "        if number % 2 == 0:\n",
    "            number = number // 2\n",
    "        else:\n",
    "            number = 3 * number + 1\n",
    "    if number == 1.0:\n",
    "        print(number)\n",
    "     \n",
    "while True:\n",
    "    try:\n",
    "        print('Pick an integer:')\n",
    "        choice = int(input())\n",
    "        break\n",
    "    except:\n",
    "        print('Invalid entry')\n",
    "        continue\n",
    "        \n",
    "collatz(choice)\n"
   ]
  },
  {
   "cell_type": "code",
   "execution_count": null,
   "id": "ea586951-d146-4f05-9ec7-85312ea622ef",
   "metadata": {},
   "outputs": [],
   "source": []
  }
 ],
 "metadata": {
  "kernelspec": {
   "display_name": "Python 3",
   "language": "python",
   "name": "python3"
  },
  "language_info": {
   "codemirror_mode": {
    "name": "ipython",
    "version": 3
   },
   "file_extension": ".py",
   "mimetype": "text/x-python",
   "name": "python",
   "nbconvert_exporter": "python",
   "pygments_lexer": "ipython3",
   "version": "3.8.8"
  }
 },
 "nbformat": 4,
 "nbformat_minor": 5
}
