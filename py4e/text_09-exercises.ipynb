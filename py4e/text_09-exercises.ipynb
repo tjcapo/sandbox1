{
 "cells": [
  {
   "cell_type": "markdown",
   "id": "5df8dd84-4ec5-49f6-a78b-23e35e0d7258",
   "metadata": {},
   "source": [
    "## Textbook 9.E Exercises"
   ]
  },
  {
   "cell_type": "markdown",
   "id": "b58c77c8-93aa-4319-8e05-5d5575895cc3",
   "metadata": {},
   "source": [
    "---\n",
    "\n",
    "### Exercise 1: Download a copy of the file www.py4e.com/code3/words.txt\n",
    "\n",
    "Write a program that reads the words in words.txt and stores them as keys in a dictionary. It doesn’t matter what the values are. Then you can use the in operator as a fast way to check whether a string is in the dictionary."
   ]
  },
  {
   "cell_type": "code",
   "execution_count": null,
   "id": "14c0f31e-e9f2-4417-a223-80f4eed1f810",
   "metadata": {},
   "outputs": [],
   "source": [
    "words = dict()\n",
    "fhand = open(input(\"Enter a file: \"))\n",
    "\n",
    "for i in fhand:\n",
    "    j = i.split()\n",
    "    for k in j:\n",
    "        if k not in words:\n",
    "            words[k] = 1\n",
    "        else:\n",
    "            words[k] += 1\n",
    "\n",
    "print(words)"
   ]
  },
  {
   "cell_type": "markdown",
   "id": "a5ff855b-295c-482e-aa30-37ead6a7cd44",
   "metadata": {},
   "source": [
    "---\n",
    "\n",
    "### Exercise 2: Write a program that categorizes each mail message by which day of the week the commit was done. To do this look for lines that start with “From”, then look for the third word and keep a running count of each of the days of the week. At the end of the program print out the contents of your dictionary (order does not matter).\n",
    "\n",
    "Sample Line:\n",
    "\n",
    "`From stephen.marquard@uct.ac.za Sat Jan  5 09:14:16 2008`\n",
    "\n",
    "Sample Execution:\n",
    "\n",
    "`python dow.py`  <br>\n",
    "`Enter a file name: mbox-short.txt`  <br>\n",
    "`{'Fri': 20, 'Thu': 6, 'Sat': 1}`  <br>\n"
   ]
  },
  {
   "cell_type": "code",
   "execution_count": 3,
   "id": "53a11e09-a52f-4714-a270-0ff085ec6a34",
   "metadata": {},
   "outputs": [
    {
     "name": "stdin",
     "output_type": "stream",
     "text": [
      "Enter file name:  mbox-short.txt\n"
     ]
    },
    {
     "name": "stdout",
     "output_type": "stream",
     "text": [
      "{'Sun': 0, 'Mon': 0, 'Tue': 0, 'Wed': 0, 'Thu': 6, 'Fri': 20, 'Sat': 1}\n"
     ]
    }
   ],
   "source": [
    "\n",
    "\n",
    "fname = input(\"Enter file name: \")\n",
    "if len(fname) < 1:\n",
    "    fname = \"mbox-short.txt\"\n",
    "\n",
    "days = {'Sun':0, 'Mon':0, 'Tue':0, 'Wed':0, 'Thu':0, 'Fri':0, 'Sat':0}\n",
    "\n",
    "fh = open(fname)\n",
    "\n",
    "for line in fh:\n",
    "    words = line.split()\n",
    "    for word in words:\n",
    "        if words[0] == 'From':\n",
    "            if words[2] == 'Sun':\n",
    "                days['Sun'] += 1\n",
    "                break\n",
    "            elif words[2] == 'Mon':\n",
    "                days['Mon'] += 1\n",
    "                break\n",
    "            elif words[2] == 'Tue':\n",
    "                days['Tue'] += 1\n",
    "                break\n",
    "            elif words[2] == 'Wed':\n",
    "                days['Wed'] += 1\n",
    "                break\n",
    "            elif words[2] == 'Thu':\n",
    "                days['Thu'] += 1\n",
    "                break\n",
    "            elif words[2] == 'Fri':\n",
    "                days['Fri'] += 1\n",
    "                break\n",
    "            elif words[2] == 'Sat':\n",
    "                days['Sat'] += 1\n",
    "                break\n",
    "        break\n",
    "        \n",
    "print(days)"
   ]
  },
  {
   "cell_type": "markdown",
   "id": "b94c6487-4b0b-44e5-9f2d-839befa2c902",
   "metadata": {},
   "source": [
    "---\n",
    "\n",
    "### Exercise 3: Write a program to read through a mail log, build a histogram using a dictionary to count how many messages have come from each email address, and print the dictionary.\n",
    "\n",
    "`Enter file name: mbox-short.txt` <br>\n",
    "`{'gopal.ramasammycook@gmail.com': 1, 'louis@media.berkeley.edu': 3,\n",
    "'cwen@iupui.edu': 5, 'antranig@caret.cam.ac.uk': 1,\n",
    "'rjlowe@iupui.edu': 2, 'gsilver@umich.edu': 3,\n",
    "'david.horwitz@uct.ac.za': 4, 'wagnermr@iupui.edu': 1,\n",
    "'zqian@umich.edu': 4, 'stephen.marquard@uct.ac.za': 2,\n",
    "'ray@media.berkeley.edu': 1}`"
   ]
  },
  {
   "cell_type": "code",
   "execution_count": 4,
   "id": "b4b407c9-c76b-46f1-922e-9a7822aa4a26",
   "metadata": {},
   "outputs": [
    {
     "name": "stdin",
     "output_type": "stream",
     "text": [
      "Enter file name:  mbox-short.txt\n"
     ]
    },
    {
     "name": "stdout",
     "output_type": "stream",
     "text": [
      "{'stephen.marquard@uct.ac.za': 2, 'louis@media.berkeley.edu': 3, 'zqian@umich.edu': 4, 'rjlowe@iupui.edu': 2, 'cwen@iupui.edu': 5, 'gsilver@umich.edu': 3, 'wagnermr@iupui.edu': 1, 'antranig@caret.cam.ac.uk': 1, 'gopal.ramasammycook@gmail.com': 1, 'david.horwitz@uct.ac.za': 4, 'ray@media.berkeley.edu': 1}\n"
     ]
    }
   ],
   "source": [
    "fname = input(\"Enter file name: \")\n",
    "if len(fname) < 1:\n",
    "    fname = \"mbox-short.txt\"\n",
    "\n",
    "senders = dict()\n",
    "\n",
    "fh = open(fname)\n",
    "\n",
    "for line in fh:\n",
    "    words = line.split()\n",
    "    for word in words:\n",
    "        if words[0] == 'From':\n",
    "            if words[1] not in senders:\n",
    "                senders[words[1]] = 1\n",
    "                break\n",
    "            else:\n",
    "                senders[words[1]] += 1\n",
    "                break\n",
    "        break\n",
    "        \n",
    "print(senders)"
   ]
  },
  {
   "cell_type": "markdown",
   "id": "40157fea-0e79-480a-ac50-5fe565d2540d",
   "metadata": {},
   "source": [
    "---\n",
    "\n",
    "### Exercise 4: Add code to the above program to figure out who has the most messages in the file. After all the data has been read and the dictionary has been created, look through the dictionary using a maximum loop (see Chapter 5: Maximum and minimum loops) to find who has the most messages and print how many messages the person has.\n",
    "\n",
    "`Enter a file name: mbox-short.txt`  <br>\n",
    "`cwen@iupui.edu 5`  <br><br>\n",
    "\n",
    "`Enter a file name: mbox.txt`  <br>\n",
    "`zqian@umich.edu 195`  <br>"
   ]
  },
  {
   "cell_type": "code",
   "execution_count": null,
   "id": "68432065-dd3d-4682-8a08-b1ca575e87f1",
   "metadata": {},
   "outputs": [],
   "source": [
    "fname = input(\"Enter file name: \")\n",
    "if len(fname) < 1:\n",
    "    fname = \"mbox-short.txt\"\n",
    "\n",
    "senders = dict()\n",
    "\n",
    "fh = open(fname)\n",
    "\n",
    "for line in fh:\n",
    "    words = line.split()\n",
    "    for word in words:\n",
    "        if words[0] == 'From':\n",
    "            if words[1] not in senders:\n",
    "                senders[words[1]] = 1\n",
    "                break\n",
    "            else:\n",
    "                senders[words[1]] += 1\n",
    "                break\n",
    "        break\n",
    "        \n",
    "\n",
    "maximum = max(senders, key = senders.get)\n",
    "\n",
    "print (maximum, senders[maximum])"
   ]
  },
  {
   "cell_type": "markdown",
   "id": "c6b24c8d-b3aa-48fa-96cf-fec8373f66a0",
   "metadata": {},
   "source": [
    "---\n",
    "\n",
    "### Exercise 5: This program records the domain name (instead of the address) where the message was sent from instead of who the mail came from (i.e., the whole email address). At the end of the program, print out the contents of your dictionary.\n",
    "\n",
    "`python schoolcount.py`  <br>\n",
    "`Enter a file name: mbox-short.txt`  <br>\n",
    "`{'media.berkeley.edu': 4, 'uct.ac.za': 6, 'umich.edu': 7,\n",
    "'gmail.com': 1, 'caret.cam.ac.uk': 1, 'iupui.edu': 8}`"
   ]
  },
  {
   "cell_type": "code",
   "execution_count": 1,
   "id": "e4befcbd-536b-4729-920e-7d2509c7a0e7",
   "metadata": {},
   "outputs": [
    {
     "name": "stdin",
     "output_type": "stream",
     "text": [
      "Enter file name:  \n"
     ]
    },
    {
     "name": "stdout",
     "output_type": "stream",
     "text": [
      "{'uct.ac.za': 6, 'media.berkeley.edu': 4, 'umich.edu': 7, 'iupui.edu': 8, 'caret.cam.ac.uk': 1, 'gmail.com': 1}\n"
     ]
    }
   ],
   "source": [
    "import re\n",
    "\n",
    "fname = input(\"Enter file name: \")\n",
    "if len(fname) < 1:\n",
    "    fname = \"mbox-short.txt\"\n",
    "\n",
    "senders = dict()\n",
    "\n",
    "fh = open(fname)\n",
    "\n",
    "for line in fh:\n",
    "    words = re.split(\" |@\", line)\n",
    "    for word in words:\n",
    "        if words[0] == 'From':\n",
    "            if words[2] not in senders:\n",
    "                senders[words[2]] = 1\n",
    "                break\n",
    "            else:\n",
    "                senders[words[2]] += 1\n",
    "                break\n",
    "        break\n",
    "        \n",
    "print(senders)"
   ]
  },
  {
   "cell_type": "code",
   "execution_count": null,
   "id": "d2c9296f-2abf-439f-ac47-11219f39735e",
   "metadata": {},
   "outputs": [],
   "source": []
  }
 ],
 "metadata": {
  "kernelspec": {
   "display_name": "Python 3",
   "language": "python",
   "name": "python3"
  },
  "language_info": {
   "codemirror_mode": {
    "name": "ipython",
    "version": 3
   },
   "file_extension": ".py",
   "mimetype": "text/x-python",
   "name": "python",
   "nbconvert_exporter": "python",
   "pygments_lexer": "ipython3",
   "version": "3.8.8"
  }
 },
 "nbformat": 4,
 "nbformat_minor": 5
}
