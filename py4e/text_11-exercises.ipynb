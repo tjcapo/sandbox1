{
 "cells": [
  {
   "cell_type": "markdown",
   "id": "d22a632c-fd34-41b7-a6b9-d6655025d82c",
   "metadata": {},
   "source": [
    "## Textbook 11.E Exercises"
   ]
  },
  {
   "cell_type": "markdown",
   "id": "f26219c8-4efa-4b7b-9569-54b0ae9877f5",
   "metadata": {},
   "source": [
    "---\n",
    "\n",
    "### Exercise 1: Write a simple program to simulate the operation of the grep command on Unix. Ask the user to enter a regular expression and count the number of lines that matched the regular expression:\n",
    "\n",
    "<code>\n",
    "$ python grep.py\n",
    "Enter a regular expression: ^Author\n",
    "mbox.txt had 1798 lines that matched ^Author\n",
    "\n",
    "$ python grep.py\n",
    "Enter a regular expression: ^X-\n",
    "mbox.txt had 14368 lines that matched ^X-\n",
    "\n",
    "$ python grep.py\n",
    "Enter a regular expression: java$\n",
    "mbox.txt had 4175 lines that matched java$\n",
    "</code>"
   ]
  },
  {
   "cell_type": "code",
   "execution_count": 1,
   "id": "5939e58e-b72d-4be1-a992-2693eb6644e2",
   "metadata": {},
   "outputs": [
    {
     "name": "stdin",
     "output_type": "stream",
     "text": [
      "Enter a regular expression:  ^Author\n"
     ]
    },
    {
     "name": "stdout",
     "output_type": "stream",
     "text": [
      "mbox.txt had 1798 lines that matched ^Author\n"
     ]
    }
   ],
   "source": [
    "import re\n",
    "\n",
    "expression = input(\"Enter a regular expression: \")\n",
    "mboxhand = open(\"mbox.txt\")\n",
    "count = 0\n",
    "\n",
    "for line in mboxhand:\n",
    "    line = line.rstrip()\n",
    "    if re.findall(expression, line):\n",
    "        count += 1\n",
    "\n",
    "print(\"mbox.txt had\", count, \"lines that matched\", expression)\n"
   ]
  },
  {
   "cell_type": "markdown",
   "id": "e34f9bdc-a912-4ed7-8149-1d2057b6b143",
   "metadata": {},
   "source": [
    "---\n",
    "\n",
    "### Exercise 2: Write a program to look for lines of the form:\n",
    "\n",
    "`New Revision : 39772`\n",
    "\n",
    "Extract the number from each of the lines using a regular expression and the `findall()` method. Compute the average of the numbers and print out the average as an integer.\n",
    "\n",
    "<code>\n",
    "Enter file:mbox.txt\n",
    "38549\n",
    "\n",
    "Enter file:mbox-short.txt\n",
    "39756 \n",
    "</code>"
   ]
  },
  {
   "cell_type": "code",
   "execution_count": 2,
   "id": "8e85fe3a-06dc-45a5-ab34-a5041e9c9744",
   "metadata": {},
   "outputs": [
    {
     "name": "stdin",
     "output_type": "stream",
     "text": [
      "Enter file: mbox.txt\n"
     ]
    },
    {
     "name": "stdout",
     "output_type": "stream",
     "text": [
      "38549\n"
     ]
    }
   ],
   "source": [
    "import re\n",
    "\n",
    "filename = input(\"Enter file:\")\n",
    "fhand = open(filename)\n",
    "total = 0\n",
    "count = 0\n",
    "\n",
    "for line in fhand:\n",
    "    line = line.rstrip()\n",
    "    number = re.findall('^New Revision: ([0-9.]+)', line)\n",
    "    if len(number) > 0:\n",
    "        total += int(number[0])\n",
    "        count += 1\n",
    "\n",
    "print(int(total / count))"
   ]
  },
  {
   "cell_type": "code",
   "execution_count": null,
   "id": "ad921408-aafe-4188-a572-b91ac525068f",
   "metadata": {},
   "outputs": [],
   "source": []
  }
 ],
 "metadata": {
  "kernelspec": {
   "display_name": "Python 3",
   "language": "python",
   "name": "python3"
  },
  "language_info": {
   "codemirror_mode": {
    "name": "ipython",
    "version": 3
   },
   "file_extension": ".py",
   "mimetype": "text/x-python",
   "name": "python",
   "nbconvert_exporter": "python",
   "pygments_lexer": "ipython3",
   "version": "3.8.8"
  }
 },
 "nbformat": 4,
 "nbformat_minor": 5
}
