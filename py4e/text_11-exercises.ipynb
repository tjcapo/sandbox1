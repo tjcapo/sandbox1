{
 "cells": [
  {
   "cell_type": "markdown",
   "id": "d22a632c-fd34-41b7-a6b9-d6655025d82c",
   "metadata": {},
   "source": [
    "## Textbook 11.E Exercises"
   ]
  },
  {
   "cell_type": "markdown",
   "id": "f26219c8-4efa-4b7b-9569-54b0ae9877f5",
   "metadata": {},
   "source": [
    "---\n",
    "\n",
    "### Exercise 1: Write a simple program to simulate the operation of the grep command on Unix. Ask the user to enter a regular expression and count the number of lines that matched the regular expression:\n",
    "\n",
    "<code>\n",
    "$ python grep.py\n",
    "Enter a regular expression: ^Author\n",
    "mbox.txt had 1798 lines that matched ^Author\n",
    "\n",
    "$ python grep.py\n",
    "Enter a regular expression: ^X-\n",
    "mbox.txt had 14368 lines that matched ^X-\n",
    "\n",
    "$ python grep.py\n",
    "Enter a regular expression: java$\n",
    "mbox.txt had 4175 lines that matched java$\n",
    "</code>"
   ]
  },
  {
   "cell_type": "code",
   "execution_count": null,
   "id": "5939e58e-b72d-4be1-a992-2693eb6644e2",
   "metadata": {},
   "outputs": [],
   "source": []
  },
  {
   "cell_type": "markdown",
   "id": "e34f9bdc-a912-4ed7-8149-1d2057b6b143",
   "metadata": {},
   "source": [
    "---\n",
    "\n",
    "### Exercise 2: Write a program to look for lines of the form:\n",
    "\n",
    "`New Revision : 39772`\n",
    "\n",
    "Extract the number from each of the lines using a regular expression and the `findall()` method. Compute the average of the numbers and print out the average as an integer.\n",
    "\n",
    "<code>\n",
    "Enter file:mbox.txt\n",
    "38549\n",
    "\n",
    "Enter file:mbox-short.txt\n",
    "39756 \n",
    "</code>"
   ]
  },
  {
   "cell_type": "code",
   "execution_count": null,
   "id": "8e85fe3a-06dc-45a5-ab34-a5041e9c9744",
   "metadata": {},
   "outputs": [],
   "source": []
  }
 ],
 "metadata": {
  "kernelspec": {
   "display_name": "Python 3",
   "language": "python",
   "name": "python3"
  },
  "language_info": {
   "codemirror_mode": {
    "name": "ipython",
    "version": 3
   },
   "file_extension": ".py",
   "mimetype": "text/x-python",
   "name": "python",
   "nbconvert_exporter": "python",
   "pygments_lexer": "ipython3",
   "version": "3.8.8"
  }
 },
 "nbformat": 4,
 "nbformat_minor": 5
}
