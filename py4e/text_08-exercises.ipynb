{
 "cells": [
  {
   "cell_type": "markdown",
   "id": "d92f84f7-fa5f-47c7-82b9-edfec8dd2052",
   "metadata": {},
   "source": [
    "## Textbook 8.E Exercises"
   ]
  },
  {
   "cell_type": "markdown",
   "id": "c769a587-78e1-446a-a181-c1eeaebde625",
   "metadata": {},
   "source": [
    "---\n",
    "\n",
    "### Exercise 1: Write a function called `chop()` that takes a list and modifies it, removing the first and last elements, and returns `None`. Then write a function called `middle()` that takes a list and returns a new list that contains all but the first and last elements."
   ]
  },
  {
   "cell_type": "code",
   "execution_count": 4,
   "id": "7d4aa5da-857f-4fbc-8b05-ccefb9f4e15e",
   "metadata": {},
   "outputs": [
    {
     "name": "stdin",
     "output_type": "stream",
     "text": [
      "Path to file:  /home/tyler/cs/py4e/ex_08/8E_test_file.txt\n"
     ]
    },
    {
     "name": "stdout",
     "output_type": "stream",
     "text": [
      "-23, moose, 1, 2, 4, 6, doggy, 23\n",
      "[None, 'moose', '1', '2', '4', '6', 'doggy', None]\n",
      "['moose', '1', '2', '4', '6', 'doggy']\n"
     ]
    }
   ],
   "source": [
    "path = input(\"Path to file: \")\n",
    "handle = open(path, 'r')\n",
    "as_string = handle.read()\n",
    "as_list = as_string.split(', ')\n",
    "\n",
    "\n",
    "def chop(list_in):\n",
    "    list_in[0] = None\n",
    "    list_in[-1] = None\n",
    "    return list_in\n",
    "\n",
    "def middle(list_in):\n",
    "    list_out = list_in[1:-1]\n",
    "    return list_out\n",
    "\n",
    "\n",
    "print(as_string)\n",
    "print(chop(as_list))\n",
    "print(middle(as_list))"
   ]
  },
  {
   "cell_type": "markdown",
   "id": "8faad3b6-2f45-421f-93c5-e03f483cd689",
   "metadata": {},
   "source": [
    "---\n",
    "\n",
    "### Exercise 2: Figure out which line of the above program is still not properly guarded. See if you can construct a text file which causes the program to fail and then modify the program so that the line is properly guarded and test it to make sure it handles your new text file."
   ]
  },
  {
   "cell_type": "code",
   "execution_count": null,
   "id": "aea8057a-0364-4513-a89b-b0f7e758bd77",
   "metadata": {},
   "outputs": [],
   "source": [
    "import sys\n",
    "\n",
    "path = input(\"Path to file: \")\n",
    "handle = open(path, 'r')\n",
    "as_string = handle.read()\n",
    "as_list = as_string.split(', ')\n",
    "\n",
    "\n",
    "def chop(list_in):\n",
    "    list_in[0] = None\n",
    "    list_in[-1] = None\n",
    "    return list_in\n",
    "\n",
    "def middle(list_in):\n",
    "    list_out = list_in[1:-1]\n",
    "    return list_out\n",
    "\n",
    "if len(as_list) < 3:\n",
    "    print(\"List too short\")\n",
    "    sys.exit()\n",
    "\n",
    "\n",
    "print(as_string)\n",
    "print(chop(as_list))\n",
    "print(middle(as_list))"
   ]
  },
  {
   "cell_type": "markdown",
   "id": "49e77379-9812-4937-a732-b89b9b6657c4",
   "metadata": {},
   "source": [
    "---\n",
    "\n",
    "### Exercise 3: Rewrite the guardian code in the above example without two `if` statements. Instead, use a compound logical expression using the `or` logical operator with a single `if` statement."
   ]
  },
  {
   "cell_type": "code",
   "execution_count": null,
   "id": "3104a4e7-1a5f-4259-8a19-7902b159a939",
   "metadata": {},
   "outputs": [],
   "source": []
  },
  {
   "cell_type": "markdown",
   "id": "55fad66d-8328-432a-9906-a2c9feea4903",
   "metadata": {},
   "source": [
    "---\n",
    "\n",
    "### Exercise 4: Find all unique words in a file\n",
    "\n",
    "Shakespeare used over 20,000 words in his works. But how would you determine that? How would you produce the list of all the words that Shakespeare used? Would you download all his work, read it and track all unique words by hand?\n",
    "\n",
    "Let’s use Python to achieve that instead. List all unique words, sorted in alphabetical order, that are stored in a file `romeo.txt` containing a subset of Shakespeare’s work.\n",
    "\n",
    "To get started, download a copy of the file www.py4e.com/code3/romeo.txt. Create a list of unique words, which will contain the final result. Write a program to open the file `romeo.txt` and read it line by line. For each line, split the line into a list of words using the `split` function. For each word, check to see if the word is already in the list of unique words. If the word is not in the list of unique words, add it to the list. When the program completes, sort and print the list of unique words in alphabetical order.\n",
    "\n",
    "```\n",
    "Enter file: romeo.txt\n",
    "['Arise', 'But', 'It', 'Juliet', 'Who', 'already',\n",
    "'and', 'breaks', 'east', 'envious', 'fair', 'grief',\n",
    "'is', 'kill', 'light', 'moon', 'pale', 'sick', 'soft',\n",
    "'sun', 'the', 'through', 'what', 'window',\n",
    "'with', 'yonder']\n",
    "```"
   ]
  },
  {
   "cell_type": "code",
   "execution_count": null,
   "id": "fa96701f-2c4a-4234-a683-d6bc1b40388f",
   "metadata": {},
   "outputs": [],
   "source": [
    "path = input(\"Path to file: \")\n",
    "handle = open(path, 'r')\n",
    "text = handle.read()\n",
    "words = text.split()\n",
    "unique_words = []\n",
    "uw_count = 0\n",
    "\n",
    "\n",
    "def check(word):\n",
    "    for q_word in unique_words:\n",
    "        if word == q_word:\n",
    "            return 1\n",
    "    return 0\n",
    "\n",
    "for word in words:\n",
    "    if check(word) == 0:\n",
    "        unique_words.append(word)\n",
    "        uw_count += 1\n",
    "    \n",
    "unique_words.sort()\n",
    "\n",
    "print(unique_words)"
   ]
  },
  {
   "cell_type": "markdown",
   "id": "c2ac0c3e-48c9-4d34-a12e-762e37897028",
   "metadata": {},
   "source": [
    "---\n",
    "\n",
    "### Exercise 5: Minimalist Email Client.\n",
    "\n",
    "MBOX (mail box) is a popular file format to store and share a collection of emails. This was used by early email servers and desktop apps. Without getting into too many details, MBOX is a text file, which stores emails consecutively. Emails are separated by a special line which starts with `From ` (notice the space). Importantly, lines starting with `From:` (notice the colon) describes the email itself and does not act as a separator. Imagine you wrote a minimalist email app, that lists the email of the senders in the user’s Inbox and counts the number of emails.\n",
    "\n",
    "Write a program to read through the mail box data and when you find line that starts with “From”, you will split the line into words using the `split` function. We are interested in who sent the message, which is the second word on the From line.\n",
    "\n",
    "`From stephen.marquard@uct.ac.za Sat Jan 5 09:14:16 2008`\n",
    "\n",
    "You will parse the From line and print out the second word for each From line, then you will also count the number of From (not From:) lines and print out a count at the end. This is a good sample output with a few lines removed:\n",
    "\n",
    "```\n",
    "python fromcount.py\n",
    "Enter a file name: mbox-short.txt\n",
    "stephen.marquard@uct.ac.za\n",
    "louis@media.berkeley.edu\n",
    "zqian@umich.edu\n",
    "\n",
    "[...some output removed...]\n",
    "\n",
    "ray@media.berkeley.edu\n",
    "cwen@iupui.edu\n",
    "cwen@iupui.edu\n",
    "cwen@iupui.edu\n",
    "There were 27 lines in the file with From as the first word\n",
    "```"
   ]
  },
  {
   "cell_type": "code",
   "execution_count": null,
   "id": "539dba16-1f87-4c31-98c7-4098b5770c8e",
   "metadata": {},
   "outputs": [],
   "source": [
    "fname = input(\"Enter file name: \")\n",
    "if len(fname) < 1:\n",
    "    fname = \"mbox-short.txt\"\n",
    "\n",
    "fh = open(fname)\n",
    "count = 0\n",
    "\n",
    "# Break text into array of lines\n",
    "for line in fh:\n",
    "    words = line.split()\n",
    "    for word in words:\n",
    "        if word == 'From':\n",
    "            print(words[1])\n",
    "            count += 1\n",
    "\n",
    "print(\"There were\", count, \"lines in the file with From as the first word\")\n",
    "\n"
   ]
  },
  {
   "cell_type": "markdown",
   "id": "33524af4-0611-44ed-966d-d6bebe78f733",
   "metadata": {},
   "source": [
    "---\n",
    "\n",
    "### Exercise 6: Rewrite the program that prompts the user for a list of numbers and prints out the maximum and minimum of the numbers at the end when the user enters “done”. Write the program to store the numbers the user enters in a list and use the `max()` and `min()` functions to compute the maximum and minimum numbers after the loop completes.\n",
    "\n",
    "```\n",
    "Enter a number: 6\n",
    "Enter a number: 2\n",
    "Enter a number: 9\n",
    "Enter a number: 3\n",
    "Enter a number: 5\n",
    "Enter a number: done\n",
    "Maximum: 9.0\n",
    "Minimum: 2.0\n",
    "```\n"
   ]
  },
  {
   "cell_type": "code",
   "execution_count": null,
   "id": "b33ae0a8-7c3d-4b6d-ba32-100ddbc133ee",
   "metadata": {},
   "outputs": [],
   "source": [
    "numbers = []\n",
    "\n",
    "while True:\n",
    "    number = input(\"Enter a number: \")\n",
    "    \n",
    "    if number == 'done' or number == 'Done' :\n",
    "        break\n",
    "    \n",
    "    try :\n",
    "        float(number)\n",
    "        numbers.append(number)\n",
    "        continue\n",
    "    except :\n",
    "        print(\"That wasn't a number\")\n",
    "        continue\n",
    "\n",
    "if len(numbers) < 1 :\n",
    "    print(\"Not enough numbers\")\n",
    "else :    \n",
    "    print(\"Maximum: \" + max(numbers))\n",
    "    print(\"Minimum: \" + min(numbers))"
   ]
  }
 ],
 "metadata": {
  "kernelspec": {
   "display_name": "Python 3",
   "language": "python",
   "name": "python3"
  },
  "language_info": {
   "codemirror_mode": {
    "name": "ipython",
    "version": 3
   },
   "file_extension": ".py",
   "mimetype": "text/x-python",
   "name": "python",
   "nbconvert_exporter": "python",
   "pygments_lexer": "ipython3",
   "version": "3.8.8"
  }
 },
 "nbformat": 4,
 "nbformat_minor": 5
}
