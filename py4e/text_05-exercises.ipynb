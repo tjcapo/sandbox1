{
 "cells": [
  {
   "cell_type": "markdown",
   "id": "407c5641-5ff0-4319-840c-99582157394b",
   "metadata": {},
   "source": [
    "## Textbook 5.E Exercises"
   ]
  },
  {
   "cell_type": "markdown",
   "id": "36d24e3e-c433-435b-aedf-703b6d606412",
   "metadata": {},
   "source": [
    "---\n",
    "### Exercise 1: Write a program which repeatedly reads numbers until the user enters “done”. Once “done” is entered, print out the total, count, and average of the numbers. If the user enters anything other than a number, detect their mistake using `try` and `except` and print an error message and skip to the next number.\n",
    "\n",
    "```\n",
    "Enter a number: 4\n",
    "Enter a number: 5\n",
    "Enter a number: bad data\n",
    "Invalid input\n",
    "Enter a number: 7\n",
    "Enter a number: done\n",
    "16 3 5.333333333333333\n",
    "```"
   ]
  },
  {
   "cell_type": "code",
   "execution_count": 2,
   "id": "47ca8589-4939-4add-a03f-df9edbdc485e",
   "metadata": {},
   "outputs": [
    {
     "name": "stdin",
     "output_type": "stream",
     "text": [
      "Enter a number \n",
      " >  4\n",
      "Enter a number \n",
      " >  5\n",
      "Enter a number \n",
      " >  bad data\n"
     ]
    },
    {
     "name": "stdout",
     "output_type": "stream",
     "text": [
      "Invalid entry\n"
     ]
    },
    {
     "name": "stdin",
     "output_type": "stream",
     "text": [
      "Enter a number \n",
      " >  7\n",
      "Enter a number \n",
      " >  done\n"
     ]
    },
    {
     "name": "stdout",
     "output_type": "stream",
     "text": [
      "Total:  16\n",
      "Count:  3\n",
      "Average:  5.333333333333333\n"
     ]
    }
   ],
   "source": [
    "cnt = 0\n",
    "sums = 0\n",
    "\n",
    "while True :\n",
    "    numb = input('Enter a number \\n > ')\n",
    "    try:  \n",
    "        numb = int(numb)\n",
    "        cnt = cnt + 1\n",
    "        sums = sums + numb\n",
    "    except:\n",
    "        if numb == 'done':\n",
    "            break\n",
    "        else:\n",
    "            print('Invalid entry')\n",
    "            continue\n",
    "        \n",
    "avg = sums / cnt\n",
    "\n",
    "print('Total: ', sums)\n",
    "print('Count: ', cnt)\n",
    "print('Average: ', avg)"
   ]
  },
  {
   "cell_type": "markdown",
   "id": "276e3abe-966e-4407-a2e4-af0dd36f1d1a",
   "metadata": {},
   "source": [
    "---\n",
    "### Exercise 2: Write another program that prompts for a list of numbers as above and at the end prints out both the maximum and minimum of the numbers instead of the average."
   ]
  },
  {
   "cell_type": "code",
   "execution_count": null,
   "id": "8afe099b-1e38-4d24-8e72-15ec55831bc8",
   "metadata": {},
   "outputs": [],
   "source": [
    "largest = None\n",
    "smallest = None\n",
    "\n",
    "while True:\n",
    "    usr_in = input(\"Enter a number\\n\")\n",
    "    if usr_in == 'done' :\n",
    "        break\n",
    "    \n",
    "    try:\n",
    "        usr_in = int(usr_in)\n",
    "        if largest == None and smallest == None:\n",
    "            largest = usr_in\n",
    "            smallest = usr_in\n",
    "        elif usr_in > largest:\n",
    "            largest = usr_in\n",
    "        elif usr_in < smallest:\n",
    "            smallest = usr_in\n",
    "        continue\n",
    "    except ValueError:\n",
    "        print(\"Invalid input\")\n",
    "        continue\n",
    "\n",
    "\n",
    "print(\"Maximum is\", largest)\n",
    "print(\"Minimum is\", smallest)"
   ]
  },
  {
   "cell_type": "markdown",
   "id": "82484e85-ba83-41a3-a1df-8cdb554dd67b",
   "metadata": {},
   "source": []
  },
  {
   "cell_type": "code",
   "execution_count": null,
   "id": "f27be99a-41b0-4e4e-b69e-c4871d3e93cf",
   "metadata": {},
   "outputs": [],
   "source": []
  }
 ],
 "metadata": {
  "kernelspec": {
   "display_name": "Python 3",
   "language": "python",
   "name": "python3"
  },
  "language_info": {
   "codemirror_mode": {
    "name": "ipython",
    "version": 3
   },
   "file_extension": ".py",
   "mimetype": "text/x-python",
   "name": "python",
   "nbconvert_exporter": "python",
   "pygments_lexer": "ipython3",
   "version": "3.8.8"
  }
 },
 "nbformat": 4,
 "nbformat_minor": 5
}
