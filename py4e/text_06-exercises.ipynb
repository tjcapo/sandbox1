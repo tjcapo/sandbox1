{
 "cells": [
  {
   "cell_type": "markdown",
   "id": "fa5ee0d3-8411-4ebb-b87f-8295b145c4d2",
   "metadata": {},
   "source": [
    "## Textbook 6.E Exercises"
   ]
  },
  {
   "cell_type": "markdown",
   "id": "236dcde5-bcee-471f-85d1-ba5822673392",
   "metadata": {},
   "source": [
    "---\n",
    "\n",
    "### Exercise 1: Write a `while` loop that starts at the last character in the string and works its way backwards to the first character in the string, printing each letter on a separate line, except backwards."
   ]
  },
  {
   "cell_type": "code",
   "execution_count": 4,
   "id": "b7707294-6ae7-4ab2-9fc2-ee4e0b70954c",
   "metadata": {},
   "outputs": [
    {
     "name": "stdin",
     "output_type": "stream",
     "text": [
      "Enter a word:\n",
      " coffee\n"
     ]
    },
    {
     "name": "stdout",
     "output_type": "stream",
     "text": [
      "e\n",
      "e\n",
      "f\n",
      "f\n",
      "o\n",
      "c\n"
     ]
    }
   ],
   "source": [
    "import time\n",
    "\n",
    "word = input('Enter a word:\\n')\n",
    "index = len(word) - 1\n",
    " \n",
    "while index >= 0:\n",
    "    letter = word[index]\n",
    "    print(letter)\n",
    "    index = index - 1\n",
    "    time.sleep(0.5)"
   ]
  },
  {
   "cell_type": "markdown",
   "id": "f2b3ea1b-7761-4eab-9ef9-3924b5a2d690",
   "metadata": {},
   "source": [
    "---\n",
    "\n",
    "### Exercise 2: Given that `fruit` is a string, what does `fruit[:]` mean?"
   ]
  },
  {
   "cell_type": "markdown",
   "id": "79366a6f-458a-4533-8df3-d348aabe20c1",
   "metadata": {},
   "source": [
    "The entire `fruit` string"
   ]
  },
  {
   "cell_type": "markdown",
   "id": "22f29bb8-f710-45ad-b092-2f8d45fd3e72",
   "metadata": {},
   "source": [
    "---\n",
    "\n",
    "### Exercise 3: Encapsulate this code in a function named `count`, and generalize it so that it accepts the string and the letter as arguments."
   ]
  },
  {
   "cell_type": "code",
   "execution_count": 5,
   "id": "e45b2e99-dacf-4e32-bbd4-e63109f8b81b",
   "metadata": {},
   "outputs": [
    {
     "name": "stdin",
     "output_type": "stream",
     "text": [
      "Pick a word:\n",
      " I don't want to pick a fucking word\n",
      "Pick a letter:\n",
      " f\n"
     ]
    },
    {
     "name": "stdout",
     "output_type": "stream",
     "text": [
      "Times f is in I don't want to pick a fucking word: 1\n"
     ]
    }
   ],
   "source": [
    "word = input('Pick a word:\\n')\n",
    "letter = input('Pick a letter:\\n')\n",
    "\n",
    "def count(w, l):\n",
    "    count = 0\n",
    "    for l in w:\n",
    "        if l.lower() == letter or  l.upper() == letter :\n",
    "            count = count + 1\n",
    "    print('Times ' + str(letter) + ' is in ' + str(word) + ': ' + str(count))\n",
    "\n",
    "count(word, letter)"
   ]
  },
  {
   "cell_type": "markdown",
   "id": "ef822bec-7676-4528-942c-3441fc79118e",
   "metadata": {},
   "source": [
    "---\n",
    "\n",
    "### Exercise 4: There is a string method called `count` that is similar to the function in the previous exercise. Read the documentation of this method at:\n",
    "\n",
    "https://docs.python.org/library/stdtypes.html#string-methods\n",
    "\n",
    "Write an invocation that counts the number of times the letter a occurs in “banana”."
   ]
  },
  {
   "cell_type": "code",
   "execution_count": 7,
   "id": "c8dc4018-3f15-40bc-9668-4e884dc04f98",
   "metadata": {},
   "outputs": [
    {
     "data": {
      "text/plain": [
       "3"
      ]
     },
     "execution_count": 7,
     "metadata": {},
     "output_type": "execute_result"
    }
   ],
   "source": [
    "w = 'banana'\n",
    "\n",
    "w.count('a')\n"
   ]
  },
  {
   "cell_type": "markdown",
   "id": "f7ed924a-fe71-4037-b42e-58318ba2d72a",
   "metadata": {},
   "source": [
    "---\n",
    "\n",
    "### Exercise 5: Take the following Python code that stores a string:\n",
    "\n",
    "`str = 'X-DSPAM-Confidence:0.8475'`\n",
    "\n",
    "Use `find` and string slicing to extract the portion of the string after the colon character and then use the `float` function to convert the extracted string into a floating point number."
   ]
  },
  {
   "cell_type": "code",
   "execution_count": 8,
   "id": "af8f1759-925b-4bb3-834e-b4cacbff2688",
   "metadata": {},
   "outputs": [
    {
     "name": "stdout",
     "output_type": "stream",
     "text": [
      "0.8475\n"
     ]
    }
   ],
   "source": [
    "string = 'X-DSPAM-Confidence:0.8475'\n",
    "\n",
    "startpos = string.find(':')\n",
    "\n",
    "output = float(string[startpos + 1: ])\n",
    "\n",
    "print(output)"
   ]
  },
  {
   "cell_type": "markdown",
   "id": "8c9d170a-c4a9-40c6-b211-d0b95894fd79",
   "metadata": {},
   "source": [
    "---\n",
    "\n",
    "### Exercise 6: Read the documentation of the string methods at https://docs.python.org/library/stdtypes.html#string-methods You might want to experiment with some of them to make sure you understand how they work. `strip` and `replace` are particularly useful.\n",
    "\n",
    "The documentation uses a syntax that might be confusing. For example, in `find(sub[, start[, end]])`, the brackets indicate optional arguments. So `sub` is required, but `start` is optional, and if you include `start`, then `end` is optional."
   ]
  },
  {
   "cell_type": "code",
   "execution_count": null,
   "id": "05e0468c-b2c9-4110-8790-ec2b6dd006cc",
   "metadata": {},
   "outputs": [],
   "source": []
  }
 ],
 "metadata": {
  "kernelspec": {
   "display_name": "Python 3",
   "language": "python",
   "name": "python3"
  },
  "language_info": {
   "codemirror_mode": {
    "name": "ipython",
    "version": 3
   },
   "file_extension": ".py",
   "mimetype": "text/x-python",
   "name": "python",
   "nbconvert_exporter": "python",
   "pygments_lexer": "ipython3",
   "version": "3.8.8"
  }
 },
 "nbformat": 4,
 "nbformat_minor": 5
}
