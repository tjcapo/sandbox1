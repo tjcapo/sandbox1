{
 "cells": [
  {
   "cell_type": "markdown",
   "id": "3873e494-f309-45d4-8749-b48fc61402d5",
   "metadata": {},
   "source": [
    "## Textbook 1.E Exercises"
   ]
  },
  {
   "cell_type": "markdown",
   "id": "9c654704-0f11-4b0e-997a-25fd7b2ab889",
   "metadata": {},
   "source": [
    "#### Exercise 1: What is the function of the secondary memory in a computer?\n",
    "\n",
    "a) Execute all of the computation and logic of the program</br>\n",
    "b) Retrieve web pages over the Internet</br>\n",
    "c) Store information for the long term, even beyond a power cycle</br>\n",
    "d) Take input from the user"
   ]
  },
  {
   "cell_type": "markdown",
   "id": "3b48e39d-d7c7-4f01-856f-2c19462e4a60",
   "metadata": {},
   "source": [
    "_a) Execute all of the computation and logic of the program._"
   ]
  },
  {
   "cell_type": "markdown",
   "id": "69b05339-1307-4e93-b007-fb93ed80b6f6",
   "metadata": {},
   "source": [
    "#### Exercise 2: What is a program?"
   ]
  },
  {
   "cell_type": "markdown",
   "id": "3d34ea8b-a327-41b6-adff-909408713ebe",
   "metadata": {},
   "source": [
    "_A sequence of statements written in a programming language that instructs a computer to do a thing._"
   ]
  },
  {
   "cell_type": "markdown",
   "id": "f2ad7c7b-5c77-4593-8d8d-20f61bc7cab9",
   "metadata": {},
   "source": [
    "#### Exercise 3: What is the difference between a compiler and an interpreter?"
   ]
  },
  {
   "cell_type": "markdown",
   "id": "80bd905b-c50f-4c68-b838-441d39977a62",
   "metadata": {},
   "source": [
    "_An interpreter reads the human-written code to convert it into mahine language. It is interactive and can process a command immediately._\n",
    "\n",
    "_A compiler is given all the code at once and is self-executing._"
   ]
  },
  {
   "cell_type": "markdown",
   "id": "8d3afb4d-35c1-4830-815a-5c4054805b21",
   "metadata": {},
   "source": [
    "#### Exercise 4: Which of the following contains \"machine code\"?\n",
    "\n",
    "a) The Python interpreter</br>\n",
    "b) The keyboard</br>\n",
    "c) Python source file</br>\n",
    "d) A word processing document"
   ]
  },
  {
   "cell_type": "markdown",
   "id": "722dddb7-c130-4537-adae-80806ccf6c64",
   "metadata": {},
   "source": [
    "_a) The Python interpreter_"
   ]
  },
  {
   "cell_type": "markdown",
   "id": "3fa27b39-8cec-49db-b483-05092aa3aa04",
   "metadata": {},
   "source": [
    "#### Exercise 5: What is wrong with the following code:\n",
    "\n",
    " >primt 'Hello world!'</br>\n",
    "      File \"<stdin>\", line 1</br>\n",
    "        primt 'Hello world!'</br>\n",
    "                           ^</br>\n",
    "    SyntaxError: invalid syntax\n",
    "   \n"
   ]
  },
  {
   "cell_type": "markdown",
   "id": "63c838ae-e089-42e0-8a56-731c3f13e064",
   "metadata": {},
   "source": [
    "_Print is spelt wrong_"
   ]
  },
  {
   "cell_type": "markdown",
   "id": "78552e43-24de-4f7c-9c08-21eb63981765",
   "metadata": {},
   "source": [
    "#### Exercise 6: Where in the computer is a variable such as \"x\" stored after the following Python line finishes?\n",
    "\n",
    ">     x = 123\n",
    "\n",
    "a) Central processing unit</br>\n",
    "b) Main Memory</br>\n",
    "c) Secondary Memory</br>\n",
    "d) Input Devices</br>\n",
    "e) Output Devices\n",
    "\n"
   ]
  },
  {
   "cell_type": "markdown",
   "id": "9099bf13-4bf5-48da-9d64-e4c97ac9973a",
   "metadata": {},
   "source": [
    "_b) Main memory_"
   ]
  },
  {
   "cell_type": "markdown",
   "id": "c8800cb2-d468-4065-9d62-5dee86def535",
   "metadata": {},
   "source": [
    "#### Exercise 7: What will the following program print out:\n",
    "\n",
    ">  x = 43</br>\n",
    "    x = x + 1</br>\n",
    "    print(x)</br>\n",
    "    \n",
    "a) 43</br>\n",
    "b) 44</br>\n",
    "c) x + 1</br>\n",
    "d) Error because x = x + 1 is not possible mathematically"
   ]
  },
  {
   "cell_type": "markdown",
   "id": "dd62fcac-34f1-4ddb-8fe2-e2a7055e1603",
   "metadata": {},
   "source": [
    "_b) 44_"
   ]
  },
  {
   "cell_type": "markdown",
   "id": "cb5aae81-1664-48f7-b051-d1218d5d94f0",
   "metadata": {},
   "source": [
    "#### Exercise 8: Explain each of the following using an example of a human capability: \n",
    "\n",
    "(1) Central processing unit</br> \n",
    "(2) Main Memory</br>\n",
    "(3) Secondary Memory</br>\n",
    "(4) Input Device</br>\n",
    "(5) Output Device\n",
    "\n",
    "For example, \"What is the human equivalent to a Central Processing Unit\"?"
   ]
  },
  {
   "cell_type": "markdown",
   "id": "c2581cec-ab15-4526-b530-027fd49a76bd",
   "metadata": {},
   "source": [
    "_(1) The CPU is like a human brain reacting to situations. Something happens and a person reacts quickly.</br>\n",
    "(2) The main memory is like a persons working memory. It can hold a few things at a time that need to be recalled quickly. If there was a math problem like 2(3+3) then the working memory would hold 3+3=6 until it was time to multiply by 2. When a person goes to sleep, this memory is erased or transferred to secondary memory if needed.</br>\n",
    "(3) Secondary memory is like a persons long term memory. It takes a little longer to recall things but they're still there. For the problem of 2(3+3) it would remember that the proper way to solver the problem is to add 3+3 then multiply the answer by 2.</br>\n",
    "(4) The input device is like a persons senses. They recieve information from the outside world and send the data to the cpu.</br>\n",
    "(5) The output device would be things like talking or manipulating the world using hands._"
   ]
  },
  {
   "cell_type": "markdown",
   "id": "496998b5-95f5-4bc6-b551-73852aa589d1",
   "metadata": {},
   "source": [
    "#### Exercise 9: How do you fix a \"Syntax Error\"?"
   ]
  },
  {
   "cell_type": "markdown",
   "id": "2d4c8463-f233-4705-9977-f8f42482f844",
   "metadata": {},
   "source": [
    "_By fixing spelling mistakes and incorrect punctuation._"
   ]
  }
 ],
 "metadata": {
  "kernelspec": {
   "display_name": "Python 3",
   "language": "python",
   "name": "python3"
  },
  "language_info": {
   "codemirror_mode": {
    "name": "ipython",
    "version": 3
   },
   "file_extension": ".py",
   "mimetype": "text/x-python",
   "name": "python",
   "nbconvert_exporter": "python",
   "pygments_lexer": "ipython3",
   "version": "3.8.8"
  }
 },
 "nbformat": 4,
 "nbformat_minor": 5
}
