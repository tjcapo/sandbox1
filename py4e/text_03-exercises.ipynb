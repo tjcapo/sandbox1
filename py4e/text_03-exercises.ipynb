{
 "cells": [
  {
   "cell_type": "markdown",
   "id": "93954824-e845-4cde-9804-385d6e14f320",
   "metadata": {},
   "source": [
    "## Textbook 3.E Exercises"
   ]
  },
  {
   "cell_type": "markdown",
   "id": "15eb8aec-fa00-47e4-966b-bfc44d53a48c",
   "metadata": {},
   "source": [
    "#### Exercise 1: Rewrite your pay computation to give the employee 1.5 times the hourly rate for hours worked above 40 hours.\n",
    "\n",
    ">Enter Hours: 45</br>\n",
    "Enter Rate: 10</br>\n",
    "Pay: 475.0"
   ]
  },
  {
   "cell_type": "code",
   "execution_count": 8,
   "id": "c254fbd8-cd63-4454-ae4d-2cfe5d1abdad",
   "metadata": {},
   "outputs": [
    {
     "name": "stdin",
     "output_type": "stream",
     "text": [
      "Enter hours:  45\n",
      "Enter rate:  10\n"
     ]
    },
    {
     "name": "stdout",
     "output_type": "stream",
     "text": [
      "475.0\n",
      "...\n",
      "Goodbye\n"
     ]
    }
   ],
   "source": [
    "#Calculates total pay based on hours and rate. OT of *1.5 after 40 hours\n",
    "\n",
    "h = input('Enter hours: ')\n",
    "r = input('Enter rate: ')\n",
    "if float(h) > 40 :\n",
    "    rgh = 40\n",
    "    oth = float(h) - 40\n",
    "    otr = float(r) * 1.5\n",
    "    ottot = (float(rgh) * float(r)) + (float(oth) * float(otr))\n",
    "    print(ottot)\n",
    "else :\n",
    "    tot = float(h) * float (r)\n",
    "    print(tot)\n",
    "print('...')\n",
    "print('Goodbye')"
   ]
  },
  {
   "cell_type": "markdown",
   "id": "553f8790-356f-4b6d-8f34-d2f2ca4cbd53",
   "metadata": {},
   "source": [
    "#### Exercise 2: Rewrite your pay program using try and except so that your program handles non-numeric input gracefully by printing a message and exiting the program. The following shows two executions of the program:\n",
    "\n",
    ">Enter Hours: 20</br>\n",
    "Enter Rate: nine</br>\n",
    "Error, please enter numeric input\n",
    "\n",
    ">Enter Hours: forty<br>\n",
    "Error, please enter numeric input"
   ]
  },
  {
   "cell_type": "code",
   "execution_count": 16,
   "id": "cb914a32-9931-4eed-b707-c94d14d3533d",
   "metadata": {},
   "outputs": [
    {
     "name": "stdin",
     "output_type": "stream",
     "text": [
      "Enter hours:  46\n",
      "Enter rate:  10\n"
     ]
    },
    {
     "name": "stdout",
     "output_type": "stream",
     "text": [
      "Total pay: 490.0\n",
      "...\n",
      "Goodbye\n"
     ]
    }
   ],
   "source": [
    "#Calculates total pay based on hours and rate. OT of *1.5 after 40 hours. Will not allow non-numeric input.\n",
    "\n",
    "\n",
    "import sys as sys\n",
    "\n",
    "try :\n",
    "    sh = input('Enter hours: ')\n",
    "    fh = float(sh)\n",
    "except :\n",
    "    print('Error, enter a numeric value')\n",
    "    sys.exit()\n",
    "    \n",
    "try :    \n",
    "    sr = input('Enter rate: ')\n",
    "    fr = float(sr)\n",
    "except :\n",
    "    print('Error, enter a numeric value')\n",
    "    sys.exit()\n",
    "\n",
    "if fh > 40 :\n",
    "    rgh = 40\n",
    "    oth = fh - 40\n",
    "    otr = fr * 1.5\n",
    "    ottot = (float(rgh) * fr) + (float(oth) * float(otr))\n",
    "    print('Total pay:', ottot)\n",
    "else :\n",
    "    tot = fh * fr\n",
    "    print('Total pay:', tot)\n",
    "print('...')\n",
    "print('Goodbye')"
   ]
  },
  {
   "cell_type": "markdown",
   "id": "4dd78cc9-9572-49ba-aff6-4108d8bbbfea",
   "metadata": {},
   "source": [
    "#### Exercise 3: Write a program to prompt for a score between 0.0 and 1.0. If the score is out of range, print an error message. If the score is between 0.0 and 1.0, print a grade using the following table:\n",
    "\n",
    " "
   ]
  },
  {
   "cell_type": "code",
   "execution_count": 1,
   "id": "6fe17840-57ff-4a38-b479-993e70010d9b",
   "metadata": {},
   "outputs": [
    {
     "name": "stdin",
     "output_type": "stream",
     "text": [
      "Enter score between 0.0 and 1.0:  0.85\n"
     ]
    },
    {
     "name": "stdout",
     "output_type": "stream",
     "text": [
      "B\n"
     ]
    }
   ],
   "source": [
    "#Converts a percent score into a letter grade\n",
    "\n",
    "import sys\n",
    "\n",
    "try :\n",
    "    ssc = input('Enter score between 0.0 and 1.0: ')\n",
    "    fsc = float(ssc)\n",
    "except :\n",
    "    print('Enter a numerical value')\n",
    "    sys.exit()\n",
    "\n",
    "if fsc < 0.0 :\n",
    "    print('Too low')\n",
    "\n",
    "elif fsc > 1.0 :\n",
    "    print('Too high')\n",
    "\n",
    "if fsc >= 0.9 and fsc <= 1.0 :\n",
    "    print('A')\n",
    "\n",
    "elif fsc >= 0.8 and fsc < 0.9 :\n",
    "    print('B')\n",
    "\n",
    "elif fsc >= 0.7 and fsc < 0.8 :\n",
    "    print('C')\n",
    "\n",
    "elif fsc >= 0.6 and fsc < 0.7 :\n",
    "    print('D')\n",
    "\n",
    "elif fsc < 0.6:\n",
    "    print('F')"
   ]
  },
  {
   "cell_type": "code",
   "execution_count": null,
   "id": "fa28ba6d-62d0-441e-bd89-c7615fc06718",
   "metadata": {},
   "outputs": [],
   "source": []
  }
 ],
 "metadata": {
  "kernelspec": {
   "display_name": "Python 3",
   "language": "python",
   "name": "python3"
  },
  "language_info": {
   "codemirror_mode": {
    "name": "ipython",
    "version": 3
   },
   "file_extension": ".py",
   "mimetype": "text/x-python",
   "name": "python",
   "nbconvert_exporter": "python",
   "pygments_lexer": "ipython3",
   "version": "3.8.8"
  }
 },
 "nbformat": 4,
 "nbformat_minor": 5
}
