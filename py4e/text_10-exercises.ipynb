{
 "cells": [
  {
   "cell_type": "markdown",
   "id": "65bfd704-39be-4600-a1bc-cfac0ece4a27",
   "metadata": {},
   "source": [
    "## Textbook 10.E Exercises"
   ]
  },
  {
   "cell_type": "markdown",
   "id": "fe570962-06dc-4fdb-80b6-2c9f85845545",
   "metadata": {},
   "source": [
    "---\n",
    "\n",
    "### Exercise 1: Revise a previous program as follows: Read and parse the “From ” lines and pull out the addresses from the line. Count the number of messages from each person using a dictionary.\n",
    "\n",
    "After all the data has been read, print the person with the most commits by creating a list of (count, email) tuples from the dictionary. Then sort the list in reverse order and print out the person who has the most commits.\n",
    "\n",
    "Sample Line:<br>\n",
    "From stephen.marquard@uct.ac.za Sat Jan  5 09:14:16 2008\n",
    "\n",
    "Enter a file name: mbox-short.txt <br>\n",
    "cwen@iupui.edu 5\n",
    "\n",
    "Enter a file name: mbox.txt<br>\n",
    "zqian@umich.edu 195"
   ]
  },
  {
   "cell_type": "code",
   "execution_count": 1,
   "id": "f3c5c565-7cc7-4383-91f8-700cdd122f74",
   "metadata": {},
   "outputs": [
    {
     "name": "stdin",
     "output_type": "stream",
     "text": [
      "Enter file name:  \n"
     ]
    },
    {
     "name": "stdout",
     "output_type": "stream",
     "text": [
      "cwen@iupui.edu 5\n"
     ]
    }
   ],
   "source": [
    "fname = input(\"Enter file name: \")\n",
    "if len(fname) < 1:\n",
    "    fname = \"mbox-short.txt\"\n",
    "\n",
    "senders = dict()\n",
    "\n",
    "fh = open(fname)\n",
    "\n",
    "for line in fh:\n",
    "    words = line.split()\n",
    "    for word in words:\n",
    "        if words[0] == 'From':\n",
    "            if words[1] not in senders:\n",
    "                senders[words[1]] = 1\n",
    "                break\n",
    "            else:\n",
    "                senders[words[1]] += 1\n",
    "                break\n",
    "        break\n",
    "        \n",
    "\n",
    "tSenders = list()\n",
    "\n",
    "for key, val in senders.items():\n",
    "    tSenders.append((val, key))\n",
    "\n",
    "tSenders.sort(reverse = True)\n",
    "\n",
    "print(tSenders[0][1], tSenders[0][0])"
   ]
  },
  {
   "cell_type": "markdown",
   "id": "c3bf3753-f49b-493c-bf9d-ba0e61390c8c",
   "metadata": {},
   "source": [
    "---\n",
    "\n",
    "### Exercise 2: This program counts the distribution of the hour of the day for each of the messages. You can pull the hour from the “From ” line by finding the time string and then splitting that string into parts using the colon character. Once you have accumulated the counts for each hour, print out the counts, one per line, sorted by hour as shown below.\n",
    "\n",
    "python timeofday.py <br>\n",
    "Enter a file name: mbox-short.txt <br>\n",
    "04 3 <br>\n",
    "06 1 <br>\n",
    "07 1 <br>\n",
    "09 2 <br>\n",
    "10 3 <br>\n",
    "11 6 <br>\n",
    "14 1 <br>\n",
    "15 2 <br>\n",
    "16 4 <br>\n",
    "17 2 <br>\n",
    "18 1 <br>\n",
    "19 1"
   ]
  },
  {
   "cell_type": "code",
   "execution_count": 2,
   "id": "0ea6158f-511e-40cf-ade1-44a852a791ba",
   "metadata": {},
   "outputs": [
    {
     "name": "stdin",
     "output_type": "stream",
     "text": [
      "Enter file name:  \n"
     ]
    },
    {
     "name": "stdout",
     "output_type": "stream",
     "text": [
      "04 3\n",
      "06 1\n",
      "07 1\n",
      "09 2\n",
      "10 3\n",
      "11 6\n",
      "14 1\n",
      "15 2\n",
      "16 4\n",
      "17 2\n",
      "18 1\n",
      "19 1\n"
     ]
    }
   ],
   "source": [
    "fname = input(\"Enter file name: \")\n",
    "if len(fname) < 1:\n",
    "    fname = \"mbox-short.txt\"\n",
    "\n",
    "times = dict()\n",
    "\n",
    "fh = open(fname)\n",
    "\n",
    "for line in fh:\n",
    "    words = line.split()\n",
    "    for word in words:\n",
    "        if words[0] == 'From':\n",
    "            if words[5] not in times:\n",
    "                times[words[5]] = 1\n",
    "                break\n",
    "            else:\n",
    "                times[words[5]] += 1\n",
    "                break\n",
    "        break\n",
    "\n",
    "\n",
    "hours = dict()      \n",
    "    \n",
    "for t in times:\n",
    "    h = t.split(':')\n",
    "    for n in h:\n",
    "        if n not in hours:\n",
    "            hours[n] = 1\n",
    "            break \n",
    "        else:\n",
    "            hours[n] += 1\n",
    "            break\n",
    "\n",
    "\n",
    "tHours = list(hours.items())\n",
    "tHours.sort()\n",
    "\n",
    "for i in tHours:\n",
    "    print(i[0], i[1])\n"
   ]
  },
  {
   "cell_type": "markdown",
   "id": "25f49488-e4bc-49da-b1c6-7fc3f9f155b6",
   "metadata": {},
   "source": [
    "---\n",
    "\n",
    "### Exercise 3: Write a program that reads a file and prints the letters in decreasing order of frequency. Your program should convert all the input to lower case and only count the letters a-z. Your program should not count spaces, digits, punctuation, or anything other than the letters a-z. Find text samples from several different languages and see how letter frequency varies between languages. Compare your results with the tables at https://wikipedia.org/wiki/Letter_frequencies."
   ]
  },
  {
   "cell_type": "code",
   "execution_count": 3,
   "id": "bc7b07c4-0b69-442a-98c3-6df3c2086e7f",
   "metadata": {},
   "outputs": [
    {
     "name": "stdin",
     "output_type": "stream",
     "text": [
      "Enter file name:  romeo.txt\n"
     ]
    },
    {
     "name": "stdout",
     "output_type": "stream",
     "text": [
      "a 11\n",
      "b 2\n",
      "c 1\n",
      "d 6\n",
      "e 12\n",
      "f 3\n",
      "g 3\n",
      "h 9\n",
      "i 14\n",
      "j 1\n",
      "k 3\n",
      "l 6\n",
      "m 1\n",
      "n 9\n",
      "o 8\n",
      "p 1\n",
      "r 7\n",
      "s 11\n",
      "t 12\n",
      "u 6\n",
      "v 1\n",
      "w 5\n",
      "y 2\n"
     ]
    }
   ],
   "source": [
    "fname = input(\"Enter file name: \")\n",
    "\n",
    "fh = open(fname)\n",
    "letters = dict()\n",
    "\n",
    "for line in fh:\n",
    "    for w in line:\n",
    "        for c in w:\n",
    "            if c.isalpha() == True :\n",
    "                c = c.lower()\n",
    "                if c not in letters:\n",
    "                    letters[c] = 1\n",
    "                else:\n",
    "                    letters[c] += 1\n",
    "    \n",
    "tLetters = list(letters.items())\n",
    "tLetters.sort()\n",
    "\n",
    "for l in tLetters:\n",
    "    print(l[0], l[1])\n",
    "    "
   ]
  },
  {
   "cell_type": "code",
   "execution_count": null,
   "id": "a845abad-075c-4b0d-b336-57a338f2d782",
   "metadata": {},
   "outputs": [],
   "source": []
  }
 ],
 "metadata": {
  "kernelspec": {
   "display_name": "Python 3",
   "language": "python",
   "name": "python3"
  },
  "language_info": {
   "codemirror_mode": {
    "name": "ipython",
    "version": 3
   },
   "file_extension": ".py",
   "mimetype": "text/x-python",
   "name": "python",
   "nbconvert_exporter": "python",
   "pygments_lexer": "ipython3",
   "version": "3.8.8"
  }
 },
 "nbformat": 4,
 "nbformat_minor": 5
}
