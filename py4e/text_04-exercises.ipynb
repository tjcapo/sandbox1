{
 "cells": [
  {
   "cell_type": "markdown",
   "id": "1f210fa3-f30d-4ce9-b640-117e36a2e5e6",
   "metadata": {},
   "source": [
    "## Textbook 4.E Exercises"
   ]
  },
  {
   "cell_type": "markdown",
   "id": "15c8d59c-13ec-4439-b768-7de01778d76b",
   "metadata": {},
   "source": [
    "#### Exercise 1: Run the program on your system and see what numbers you get. Run the program more than once and see what numbers you get.\n",
    "\n",
    "<code>\n",
    "    import random\n",
    "\n",
    "for i in range(10):\n",
    "    x = random.random()\n",
    "    print(x)\n",
    "</code>\n"
   ]
  },
  {
   "cell_type": "code",
   "execution_count": 1,
   "id": "62e918da-6f81-4c63-a52f-17f876fad73f",
   "metadata": {},
   "outputs": [
    {
     "name": "stdout",
     "output_type": "stream",
     "text": [
      "0.22097400300830328\n",
      "0.6985661270178559\n",
      "0.6536123089118795\n",
      "0.01976075190819715\n",
      "0.8879640840964164\n",
      "0.20536778454447147\n",
      "0.8568076198470651\n",
      "0.13868882098903546\n",
      "0.772752600979192\n",
      "0.41719987076465914\n"
     ]
    }
   ],
   "source": [
    "#Displays 10 pseudorandom numbers between 0 and 1\n",
    "\n",
    "import random\n",
    "\n",
    "for i in range(10):\n",
    "    x = random.random()\n",
    "    print(x)\n",
    "    "
   ]
  },
  {
   "cell_type": "code",
   "execution_count": 2,
   "id": "d839ff3e-1af3-4797-803e-4adca8fd21ce",
   "metadata": {},
   "outputs": [
    {
     "name": "stdout",
     "output_type": "stream",
     "text": [
      "0.3503663336330729\n",
      "0.4668473011713711\n",
      "0.41634034874333326\n",
      "0.20108814124949537\n",
      "0.6997770205001013\n",
      "0.1941520623980567\n",
      "0.7686198858723925\n",
      "0.5289044978810872\n",
      "0.017484789610091034\n",
      "0.5127625661658084\n"
     ]
    }
   ],
   "source": [
    "import random\n",
    "\n",
    "for i in range(10):\n",
    "    x = random.random()\n",
    "    print(x)\n",
    "    "
   ]
  },
  {
   "cell_type": "markdown",
   "id": "ed50a991-bbe3-452c-822d-52c3739d7bea",
   "metadata": {},
   "source": [
    "#### Exercise 2: Move the last line of this program to the top, so the function call appears before the definitions. Run the program and see what error message you get.\n",
    "\n",
    "<code>\n",
    "def print_lyrics():\n",
    "    print(\"I'm a lumberjack, and I'm okay.\")\n",
    "    print('I sleep all night and I work all day.')\n",
    "\n",
    "\n",
    "def repeat_lyrics():\n",
    "    print_lyrics()\n",
    "    print_lyrics()\n",
    "\n",
    "repeat_lyrics()\n",
    "</code>"
   ]
  },
  {
   "cell_type": "code",
   "execution_count": 3,
   "id": "e0e293bd-6538-4abf-9cef-34313e4aa4f9",
   "metadata": {},
   "outputs": [
    {
     "ename": "NameError",
     "evalue": "name 'repeat_lyrics' is not defined",
     "output_type": "error",
     "traceback": [
      "\u001b[0;31m---------------------------------------------------------------------------\u001b[0m",
      "\u001b[0;31mNameError\u001b[0m                                 Traceback (most recent call last)",
      "\u001b[0;32m<ipython-input-3-ffd3bebca6b3>\u001b[0m in \u001b[0;36m<module>\u001b[0;34m\u001b[0m\n\u001b[0;32m----> 1\u001b[0;31m \u001b[0mrepeat_lyrics\u001b[0m\u001b[0;34m(\u001b[0m\u001b[0;34m)\u001b[0m\u001b[0;34m\u001b[0m\u001b[0;34m\u001b[0m\u001b[0m\n\u001b[0m\u001b[1;32m      2\u001b[0m \u001b[0;34m\u001b[0m\u001b[0m\n\u001b[1;32m      3\u001b[0m \u001b[0;32mdef\u001b[0m \u001b[0mprint_lyrics\u001b[0m\u001b[0;34m(\u001b[0m\u001b[0;34m)\u001b[0m\u001b[0;34m:\u001b[0m\u001b[0;34m\u001b[0m\u001b[0;34m\u001b[0m\u001b[0m\n\u001b[1;32m      4\u001b[0m     \u001b[0mprint\u001b[0m\u001b[0;34m(\u001b[0m\u001b[0;34m\"I'm a lumberjack, and I'm okay.\"\u001b[0m\u001b[0;34m)\u001b[0m\u001b[0;34m\u001b[0m\u001b[0;34m\u001b[0m\u001b[0m\n\u001b[1;32m      5\u001b[0m     \u001b[0mprint\u001b[0m\u001b[0;34m(\u001b[0m\u001b[0;34m'I sleep all night and I work all day.'\u001b[0m\u001b[0;34m)\u001b[0m\u001b[0;34m\u001b[0m\u001b[0;34m\u001b[0m\u001b[0m\n",
      "\u001b[0;31mNameError\u001b[0m: name 'repeat_lyrics' is not defined"
     ]
    }
   ],
   "source": [
    "repeat_lyrics()\n",
    "\n",
    "def print_lyrics():\n",
    "    print(\"I'm a lumberjack, and I'm okay.\")\n",
    "    print('I sleep all night and I work all day.')\n",
    "\n",
    "\n",
    "def repeat_lyrics():\n",
    "    print_lyrics()\n",
    "    print_lyrics()\n",
    "\n",
    "\n"
   ]
  },
  {
   "cell_type": "markdown",
   "id": "3251f6ee-832b-4a8f-a83e-f4ba1f5e83c3",
   "metadata": {},
   "source": [
    "#### Exercise 3: Move the function call back to the bottom and move the definition of print_lyrics after the definition of repeat_lyrics. What happens when you run this program?"
   ]
  },
  {
   "cell_type": "code",
   "execution_count": 6,
   "id": "c80f4e85-c5b7-4cf3-a975-9c46766adece",
   "metadata": {},
   "outputs": [
    {
     "name": "stdout",
     "output_type": "stream",
     "text": [
      "I'm a lumberjack, and I'm okay.\n",
      "I sleep all night and I work all day.\n",
      "I'm a lumberjack, and I'm okay.\n",
      "I sleep all night and I work all day.\n"
     ]
    }
   ],
   "source": [
    "def repeat_lyrics():\n",
    "    print_lyrics()\n",
    "    print_lyrics()\n",
    "\n",
    "def print_lyrics():\n",
    "    print(\"I'm a lumberjack, and I'm okay.\")\n",
    "    print('I sleep all night and I work all day.')\n",
    "\n",
    "repeat_lyrics()"
   ]
  },
  {
   "cell_type": "markdown",
   "id": "c949e7a8-6232-44de-98e3-4c03b7704c0f",
   "metadata": {},
   "source": [
    "#### Exercise 4: What is the purpose of the “def” keyword in Python?\n",
    "\n",
    ">a) It is slang that means “the following code is really cool”</br>\n",
    "b) It indicates the start of a function</br>\n",
    "c) It indicates that the following indented section of code is to be stored for later</br>\n",
    "d) b and c are both true</br>\n",
    "e) None of the above"
   ]
  },
  {
   "cell_type": "code",
   "execution_count": null,
   "id": "50711b88-61ca-4bc1-adbf-61732162210c",
   "metadata": {},
   "outputs": [],
   "source": []
  },
  {
   "cell_type": "markdown",
   "id": "d4c82367-e181-4c26-a1f9-3362093d4b53",
   "metadata": {},
   "source": [
    "#### Exercise 5: What will the following Python program print out?\n",
    "\n",
    "<code>\n",
    "def fred():\n",
    "   print(\"Zap\")\n",
    "\n",
    "def jane():\n",
    "   print(\"ABC\")\n",
    "    \n",
    "jane()\n",
    "fred()\n",
    "jane()\n",
    "</code>    \n",
    "</br>    \n",
    ">a) Zap ABC jane fred jane</br>\n",
    "b) Zap ABC Zap</br>\n",
    "c) ABC Zap jane</br>\n",
    "d) ABC Zap ABC</br>\n",
    "e) Zap Zap Zap</br>"
   ]
  },
  {
   "cell_type": "code",
   "execution_count": 1,
   "id": "36287104-689b-42c0-b6dc-eeb454d6d696",
   "metadata": {},
   "outputs": [
    {
     "name": "stdout",
     "output_type": "stream",
     "text": [
      "ABC\n",
      "Zap\n",
      "ABC\n"
     ]
    }
   ],
   "source": [
    "def fred():\n",
    "   print(\"Zap\")\n",
    "\n",
    "def jane():\n",
    "   print(\"ABC\")\n",
    "\n",
    "\n",
    "jane()\n",
    "fred()\n",
    "jane()"
   ]
  },
  {
   "cell_type": "markdown",
   "id": "ecb7795f-6650-4276-a806-2c8bcff81479",
   "metadata": {},
   "source": [
    "#### Exercise 6: Rewrite your pay computation with time-and-a-half for overtime and create a function called computepay which takes two parameters (hours and rate).\n",
    "\n",
    "Enter Hours: 45 </br>\n",
    "Enter Rate: 10 </br>\n",
    "Pay: 475.0"
   ]
  },
  {
   "cell_type": "code",
   "execution_count": 4,
   "id": "0cbb1b28-08fe-41d1-af59-915e6003009c",
   "metadata": {},
   "outputs": [
    {
     "name": "stdin",
     "output_type": "stream",
     "text": [
      "Enter hours:  45\n",
      "Enter rate:  10.50\n"
     ]
    },
    {
     "name": "stdout",
     "output_type": "stream",
     "text": [
      "Pay 498.75\n"
     ]
    }
   ],
   "source": [
    "# calculates pay based on rate and hours\n",
    "\n",
    "import sys\n",
    "\n",
    "def computepay():\n",
    "    if fh > 40 :\n",
    "        rgh = 40\n",
    "        oth = fh - 40\n",
    "        otr = fr * 1.5\n",
    "        ottot = (float(rgh) * fr) + (float(oth) * float(otr))\n",
    "        return ottot\n",
    "    else :\n",
    "        tot = fh * fr\n",
    "        return tot\n",
    "\n",
    "\n",
    "try :\n",
    "    sh = input('Enter hours: ')\n",
    "    fh = float(sh)\n",
    "except :\n",
    "    print('Error, enter a numeric value')\n",
    "    sys.exit()\n",
    "    \n",
    "try :    \n",
    "    sr = input('Enter rate: ')\n",
    "    fr = float(sr)\n",
    "except :\n",
    "    print('Error, enter a numeric value')\n",
    "    sys.exit()\n",
    "\n",
    "print(\"Pay\", computepay())\n"
   ]
  },
  {
   "cell_type": "markdown",
   "id": "66bfe1b0-a3dc-4dfd-a2ab-230c5711c4e3",
   "metadata": {},
   "source": [
    "#### Exercise 7: Rewrite the grade program from the previous chapter using a function called computegrade that takes a score as its parameter and returns a grade as a string.\n"
   ]
  },
  {
   "cell_type": "code",
   "execution_count": 2,
   "id": "29e2e53d-ea7f-48b4-ac37-e9dde8e53641",
   "metadata": {},
   "outputs": [
    {
     "name": "stdin",
     "output_type": "stream",
     "text": [
      "Enter score between 0.0 and 1.0:  1\n"
     ]
    },
    {
     "name": "stdout",
     "output_type": "stream",
     "text": [
      "Valid score\n",
      "Grade: A\n",
      "...Goodbye...\n"
     ]
    }
   ],
   "source": [
    "\n",
    "#Converts a percent score into a letter grade\n",
    "\n",
    "import sys\n",
    "\n",
    "try :\n",
    "    ssc = input('Enter score between 0.0 and 1.0: ')\n",
    "    fsc = float(ssc)\n",
    "except :\n",
    "    print('Enter a numerical value')\n",
    "    sys.exit()\n",
    "\n",
    "def computegrade():\n",
    "    if fsc >= 0.0 and fsc <= 1.0 :\n",
    "        print('Valid score')\n",
    "\n",
    "    if fsc < 0.0 :\n",
    "        print('Too low')\n",
    "    \n",
    "    if fsc > 1.0 :\n",
    "        print('Too high')\n",
    "    \n",
    "    if fsc >= 0.9 and fsc <= 1.0 :\n",
    "        print('Grade: A')\n",
    "    \n",
    "    if fsc >= 0.8 and fsc < 0.9 :\n",
    "        print('Grade: B')\n",
    "    \n",
    "    if fsc >= 0.7 and fsc < 0.8 :\n",
    "        print('Grade: C')\n",
    "    \n",
    "    if fsc >= 0.6 and fsc < 0.7 :\n",
    "        print('Grade: D')\n",
    "    \n",
    "    if fsc < 0.6:\n",
    "        print('Grade: F')\n",
    "        \n",
    "computegrade()\n",
    "    \n",
    "print('...Goodbye...')"
   ]
  },
  {
   "cell_type": "code",
   "execution_count": null,
   "id": "9422a3db-65ef-40e4-8238-542593ba9dc6",
   "metadata": {},
   "outputs": [],
   "source": []
  }
 ],
 "metadata": {
  "kernelspec": {
   "display_name": "Python 3",
   "language": "python",
   "name": "python3"
  },
  "language_info": {
   "codemirror_mode": {
    "name": "ipython",
    "version": 3
   },
   "file_extension": ".py",
   "mimetype": "text/x-python",
   "name": "python",
   "nbconvert_exporter": "python",
   "pygments_lexer": "ipython3",
   "version": "3.8.8"
  }
 },
 "nbformat": 4,
 "nbformat_minor": 5
}
