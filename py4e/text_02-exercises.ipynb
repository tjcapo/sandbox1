{
 "cells": [
  {
   "cell_type": "markdown",
   "id": "ba6bbb2d-6cfe-4424-95d2-5f11993f061a",
   "metadata": {},
   "source": [
    "## Textbook 2.E Exercises"
   ]
  },
  {
   "cell_type": "markdown",
   "id": "aa09fabf-9ed7-4c95-83c3-74aefe997d32",
   "metadata": {},
   "source": [
    "#### Exercise 1: Type the following statements in the Python interpreter to see what they do:\n",
    "\n",
    ">5</br>\n",
    "x = 5</br>\n",
    "x + 1</br>"
   ]
  },
  {
   "cell_type": "code",
   "execution_count": 1,
   "id": "73eb8770-7465-41d4-b4d5-614502b423b5",
   "metadata": {},
   "outputs": [
    {
     "data": {
      "text/plain": [
       "5"
      ]
     },
     "execution_count": 1,
     "metadata": {},
     "output_type": "execute_result"
    }
   ],
   "source": [
    "5"
   ]
  },
  {
   "cell_type": "code",
   "execution_count": 2,
   "id": "04a1c983-8add-4b42-b243-4d95f179fefc",
   "metadata": {},
   "outputs": [],
   "source": [
    "x = 5"
   ]
  },
  {
   "cell_type": "code",
   "execution_count": 3,
   "id": "ec113216-0cb0-4d8c-8dd8-8e2bfb236922",
   "metadata": {},
   "outputs": [
    {
     "data": {
      "text/plain": [
       "6"
      ]
     },
     "execution_count": 3,
     "metadata": {},
     "output_type": "execute_result"
    }
   ],
   "source": [
    "x + 1"
   ]
  },
  {
   "cell_type": "markdown",
   "id": "79587770-3802-4520-b1d9-8c26e8deb8fb",
   "metadata": {},
   "source": [
    "#### Exercise 2: Write a program that uses input to prompt a user for their name and then welcomes them."
   ]
  },
  {
   "cell_type": "code",
   "execution_count": 2,
   "id": "125b9a32-49ed-42d0-a466-f19ee16dcd7e",
   "metadata": {},
   "outputs": [
    {
     "name": "stdin",
     "output_type": "stream",
     "text": [
      "What is your name? Tyler\n"
     ]
    },
    {
     "name": "stdout",
     "output_type": "stream",
     "text": [
      "Hello Tyler\n"
     ]
    }
   ],
   "source": [
    "### Ask for name and say hello\n",
    "\n",
    "name = input('What is your name?')\n",
    "print('Hello', name)"
   ]
  },
  {
   "cell_type": "markdown",
   "id": "5ea7ba6c-bcf9-4a33-a38a-ecbaaa05f373",
   "metadata": {},
   "source": [
    "#### Exercise 3: Write a program to prompt the user for hours and rate per hour to compute gross pay."
   ]
  },
  {
   "cell_type": "code",
   "execution_count": 1,
   "id": "a4bb1699-1566-4227-a904-a20e1d059606",
   "metadata": {},
   "outputs": [
    {
     "name": "stdin",
     "output_type": "stream",
     "text": [
      "Enter hours:  35\n",
      "Enter pay rate:  2.75\n"
     ]
    },
    {
     "name": "stdout",
     "output_type": "stream",
     "text": [
      "Pay 96.25\n"
     ]
    }
   ],
   "source": [
    "### Calculate total pay based on hours and rate\n",
    "\n",
    "hours = input('Enter hours: ')\n",
    "rate = input('Enter pay rate: ')\n",
    "pay = float(hours) * float(rate) \n",
    "print('Pay:', pay)"
   ]
  },
  {
   "cell_type": "markdown",
   "id": "09c2fe1a-7689-4663-89ec-d49f31bb6a9b",
   "metadata": {},
   "source": [
    "#### Exercise 4: Assume that we execute the following assignment statements:\n",
    "\n",
    ">width = 17</br>\n",
    "height = 12.0\n",
    "\n",
    "For each of the following expressions, write the value of the expression and the type (of the value of the expression).\n",
    "\n",
    ">width//2</br>\n",
    "width/2.0</br>\n",
    "height/3</br>\n",
    "1 + 2 * 5\n"
   ]
  },
  {
   "cell_type": "code",
   "execution_count": 11,
   "id": "06d6f1de-eb91-4d72-a43b-d2e6865fc8d1",
   "metadata": {},
   "outputs": [
    {
     "name": "stdout",
     "output_type": "stream",
     "text": [
      "Q1: 8\n",
      "<class 'int'>\n",
      "Q2: 8.5\n",
      "<class 'float'>\n",
      "Q3: 4.0\n",
      "<class 'float'>\n",
      "Q4: 11\n",
      "<class 'int'>\n"
     ]
    }
   ],
   "source": [
    "### Working with width and height\n",
    "\n",
    "width = 17\n",
    "height = 12.0\n",
    "\n",
    "frs = width // 2\n",
    "snd = width / 2.0\n",
    "thu = height / 3\n",
    "frt = 1 + 2 * 5\n",
    "\n",
    "print('Q1:', frs)\n",
    "print(type(frs))\n",
    " \n",
    "print('Q2:', snd)\n",
    "print(type(snd))\n",
    "\n",
    "print('Q3:', thu)\n",
    "print(type(thu))\n",
    "\n",
    "print('Q4:', frt)\n",
    "print(type(frt))\n",
    "\n"
   ]
  },
  {
   "cell_type": "markdown",
   "id": "0c8bdab3-4496-41d6-9662-96f932cb7a95",
   "metadata": {},
   "source": [
    "#### Exercise 5: Write a program which prompts the user for a Celsius temperature, convert the temperature to Fahrenheit, and print out the converted temperature."
   ]
  },
  {
   "cell_type": "code",
   "execution_count": 1,
   "id": "3bb92a2a-a719-4ac7-a216-6cd00d3bfb15",
   "metadata": {},
   "outputs": [
    {
     "name": "stdin",
     "output_type": "stream",
     "text": [
      "Enter Celsius temperature:  Forty-two\n"
     ]
    },
    {
     "ename": "ValueError",
     "evalue": "could not convert string to float: 'Forty-two'",
     "output_type": "error",
     "traceback": [
      "\u001b[0;31m---------------------------------------------------------------------------\u001b[0m",
      "\u001b[0;31mValueError\u001b[0m                                Traceback (most recent call last)",
      "\u001b[0;32m<ipython-input-1-308f62c0542a>\u001b[0m in \u001b[0;36m<module>\u001b[0;34m\u001b[0m\n\u001b[1;32m      1\u001b[0m \u001b[0;31m### Convert Celsius to Farenheit\u001b[0m\u001b[0;34m\u001b[0m\u001b[0;34m\u001b[0m\u001b[0;34m\u001b[0m\u001b[0m\n\u001b[1;32m      2\u001b[0m \u001b[0;34m\u001b[0m\u001b[0m\n\u001b[0;32m----> 3\u001b[0;31m \u001b[0mcls\u001b[0m \u001b[0;34m=\u001b[0m \u001b[0mfloat\u001b[0m\u001b[0;34m(\u001b[0m\u001b[0minput\u001b[0m\u001b[0;34m(\u001b[0m\u001b[0;34m'Enter Celsius temperature: '\u001b[0m\u001b[0;34m)\u001b[0m\u001b[0;34m)\u001b[0m\u001b[0;34m\u001b[0m\u001b[0;34m\u001b[0m\u001b[0m\n\u001b[0m\u001b[1;32m      4\u001b[0m \u001b[0mfht\u001b[0m \u001b[0;34m=\u001b[0m \u001b[0mcls\u001b[0m \u001b[0;34m*\u001b[0m \u001b[0;36m1.8\u001b[0m \u001b[0;34m+\u001b[0m \u001b[0;36m32\u001b[0m\u001b[0;34m\u001b[0m\u001b[0;34m\u001b[0m\u001b[0m\n\u001b[1;32m      5\u001b[0m \u001b[0mprint\u001b[0m\u001b[0;34m(\u001b[0m\u001b[0mcls\u001b[0m\u001b[0;34m,\u001b[0m \u001b[0;34m'degrees Celsius is'\u001b[0m\u001b[0;34m,\u001b[0m \u001b[0mfht\u001b[0m\u001b[0;34m,\u001b[0m \u001b[0;34m'degrees Farenheit'\u001b[0m\u001b[0;34m)\u001b[0m\u001b[0;34m\u001b[0m\u001b[0;34m\u001b[0m\u001b[0m\n",
      "\u001b[0;31mValueError\u001b[0m: could not convert string to float: 'Forty-two'"
     ]
    }
   ],
   "source": [
    "### Convert Celsius to Farenheit\n",
    "\n",
    "cls = float(input('Enter Celsius temperature: '))\n",
    "fht = cls * 1.8 + 32\n",
    "print(cls, 'degrees Celsius is', fht, 'degrees Farenheit')"
   ]
  },
  {
   "cell_type": "code",
   "execution_count": null,
   "id": "1f2c7361-8af3-4bf2-9b35-c7dc0450ee0a",
   "metadata": {},
   "outputs": [],
   "source": []
  }
 ],
 "metadata": {
  "kernelspec": {
   "display_name": "Python 3",
   "language": "python",
   "name": "python3"
  },
  "language_info": {
   "codemirror_mode": {
    "name": "ipython",
    "version": 3
   },
   "file_extension": ".py",
   "mimetype": "text/x-python",
   "name": "python",
   "nbconvert_exporter": "python",
   "pygments_lexer": "ipython3",
   "version": "3.8.8"
  }
 },
 "nbformat": 4,
 "nbformat_minor": 5
}
